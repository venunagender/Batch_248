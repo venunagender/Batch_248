{
 "cells": [
  {
   "cell_type": "code",
   "execution_count": 14,
   "id": "c2f1f559",
   "metadata": {},
   "outputs": [
    {
     "name": "stdout",
     "output_type": "stream",
     "text": [
      "Enter the measurement of 0 side1\n",
      "Enter the measurement of 1 side2\n",
      "Enter the measurement of 2 side2\n",
      "Enter the measurement of 3 side1\n",
      "It is a rectangle\n"
     ]
    }
   ],
   "source": [
    "#3\n",
    "x = []\n",
    "for i in range(0,4):\n",
    "    x.append(int(input(f'Enter the measurement of {i} side')))\n",
    "if (x[0] == x[1] == x[2]) or (x[2] == x[3] == x[1]) or (x[3] == x[1] == x[0]) or (x[0] == x[2] == x[3]):\n",
    "    print('Irregular Quadrilateral')\n",
    "else:\n",
    "    x = set(x)\n",
    "    if len(x) == 1:\n",
    "        print(\"It is a square\")\n",
    "    elif len(x) == 2:\n",
    "        print(\"It is a rectangle\")\n",
    "    else:\n",
    "        print('Irregular Quadrilateral')"
   ]
  },
  {
   "cell_type": "code",
   "execution_count": 15,
   "id": "82553374",
   "metadata": {},
   "outputs": [
    {
     "name": "stdout",
     "output_type": "stream",
     "text": [
      "enter a three or greater than three digit positive integer:123\n",
      "Z\n"
     ]
    }
   ],
   "source": [
    "#1\n",
    "num = input(\"enter a three or greater than three digit positive integer:\")\n",
    "if (len(num) >= 3) and (num.isdigit()):\n",
    "    \n",
    "    if(int(num[-2:]) % 3 ==0) and (int(num[-2:]) % 7 == 0):\n",
    "        print('AB')\n",
    "    elif int(num[-2:]) % 3 ==0 :\n",
    "        print('B')\n",
    "    elif int(num[-2:]) % 7 ==0 :\n",
    "        print('A')\n",
    "    else:\n",
    "        print('Z')\n",
    "else:\n",
    "    print(\"Try entering a three digit or greater than three digit positive integer\")\n",
    "    "
   ]
  },
  {
   "cell_type": "code",
   "execution_count": 18,
   "id": "c2f4599a",
   "metadata": {},
   "outputs": [
    {
     "name": "stdout",
     "output_type": "stream",
     "text": [
      "enter an alphabet:56\n",
      "enter a single alphabet\n"
     ]
    }
   ],
   "source": [
    "#2\n",
    "x = input('enter an alphabet:').lower()\n",
    "if len(x) ==1 and x.isalpha():\n",
    "    \n",
    "    if x in ['a', 'e', 'i', 'o', 'u']:\n",
    "        print('vowel')\n",
    "    else:\n",
    "        print('not vowel')\n",
    "else:\n",
    "    print(\"enter a single alphabet\")"
   ]
  },
  {
   "cell_type": "code",
   "execution_count": 27,
   "id": "21c91a14",
   "metadata": {},
   "outputs": [
    {
     "name": "stdout",
     "output_type": "stream",
     "text": [
      "enter a number2\n",
      "enter a alphabet and a number:o\n",
      "vowel and a even number\n"
     ]
    }
   ],
   "source": [
    "y = int(input(\"enter a number\"))\n",
    "x = input(\"enter a alphabet and a number:\").lower()\n",
    "\n",
    "if (x in ['a', 'e', 'i', 'o', 'u']) and y % 2 == 0:\n",
    "    print(\"vowel and a even number\")\n",
    "elif (x not in ['a', 'e', 'i', 'o', 'u']) and y % 2 == 0:\n",
    "    print(\"not vowel and a even number\")\n",
    "elif (x in ['a', 'e', 'i', 'o', 'u']) and y % 2 != 0:\n",
    "    print(\"vowel and not a even number\")\n",
    "else:\n",
    "    print(\"not vowel and not even number\")"
   ]
  },
  {
   "cell_type": "code",
   "execution_count": null,
   "id": "7a43e957",
   "metadata": {},
   "outputs": [],
   "source": []
  },
  {
   "cell_type": "code",
   "execution_count": null,
   "id": "b9a907e5",
   "metadata": {},
   "outputs": [],
   "source": []
  },
  {
   "cell_type": "code",
   "execution_count": null,
   "id": "1d7cc885",
   "metadata": {},
   "outputs": [],
   "source": []
  }
 ],
 "metadata": {
  "kernelspec": {
   "display_name": "Python 3 (ipykernel)",
   "language": "python",
   "name": "python3"
  },
  "language_info": {
   "codemirror_mode": {
    "name": "ipython",
    "version": 3
   },
   "file_extension": ".py",
   "mimetype": "text/x-python",
   "name": "python",
   "nbconvert_exporter": "python",
   "pygments_lexer": "ipython3",
   "version": "3.11.3"
  }
 },
 "nbformat": 4,
 "nbformat_minor": 5
}
