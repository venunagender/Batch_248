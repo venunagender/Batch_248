{
 "cells": [
  {
   "cell_type": "markdown",
   "id": "58e06403",
   "metadata": {},
   "source": [
    "#### I am taking an example of comparing 3 numbers and evaluating the maximum of those numbers by using conditional statements in 3 three different approaches."
   ]
  },
  {
   "cell_type": "code",
   "execution_count": 43,
   "id": "b45e00dd",
   "metadata": {},
   "outputs": [],
   "source": [
    "import time\n",
    "from time import time"
   ]
  },
  {
   "cell_type": "code",
   "execution_count": 48,
   "id": "f9b91f0e",
   "metadata": {},
   "outputs": [
    {
     "name": "stdout",
     "output_type": "stream",
     "text": [
      "Enter value of a:5\n",
      "Enter value of b:7\n",
      "Enter value of c:4\n",
      "5 < 7 > 4\n",
      "time complexity: 7.559698581695557\n"
     ]
    }
   ],
   "source": [
    "#Approach 1:\n",
    "start = time()\n",
    "a = int(input(\"Enter value of a:\"))\n",
    "b = int(input(\"Enter value of b:\"))\n",
    "c = int(input(\"Enter value of c:\"))\n",
    "if a>b and a>c:\n",
    "    print(f'{a} > ({b},{c})')\n",
    "elif b > a and b > c:\n",
    "    print(f'{a} < {b} > {c}')\n",
    "else :\n",
    "    print(f'{c} > ({a},{b})')\n",
    "end = time()\n",
    "print(\"time complexity:\",end - start)"
   ]
  },
  {
   "cell_type": "code",
   "execution_count": 49,
   "id": "b72c1631",
   "metadata": {},
   "outputs": [
    {
     "name": "stdout",
     "output_type": "stream",
     "text": [
      "5 < 7 > 4\n",
      "time complexity: 0.0\n"
     ]
    }
   ],
   "source": [
    "#approach 2:\n",
    "start = time()\n",
    "if a < b :\n",
    "    if a < c:\n",
    "        print(f'{a} > ({b},{c})')\n",
    "if b > a :\n",
    "    if b > c:\n",
    "        print(f'{a} < {b} > {c}')\n",
    "if c > a :\n",
    "    if c > b:\n",
    "        print(f'{c} > ({a},{b})')\n",
    "end = time()\n",
    "print(\"time complexity:\",end - start)  "
   ]
  },
  {
   "cell_type": "code",
   "execution_count": 50,
   "id": "22ce5a41",
   "metadata": {},
   "outputs": [
    {
     "name": "stdout",
     "output_type": "stream",
     "text": [
      "5 < 7 > 4\n",
      "time complexity: 0.0009958744049072266\n"
     ]
    }
   ],
   "source": [
    "# approach 3:\n",
    "start = time()\n",
    "if max(a, b, c) == a:\n",
    "    print(f'{a} > ({b},{c})')\n",
    "if max(a, b, c) == b:\n",
    "     print(f'{a} < {b} > {c}')\n",
    "else:\n",
    "    print(f'{c} > ({a},{b})')\n",
    "end = time()\n",
    "print(\"time complexity:\",end - start) \n",
    "    \n",
    "                    "
   ]
  },
  {
   "cell_type": "code",
   "execution_count": null,
   "id": "1b3c3aa4",
   "metadata": {},
   "outputs": [],
   "source": []
  },
  {
   "cell_type": "code",
   "execution_count": null,
   "id": "aa10c1ed",
   "metadata": {},
   "outputs": [],
   "source": []
  },
  {
   "cell_type": "code",
   "execution_count": null,
   "id": "b0f2f4e7",
   "metadata": {},
   "outputs": [],
   "source": []
  },
  {
   "cell_type": "code",
   "execution_count": null,
   "id": "80789c1e",
   "metadata": {},
   "outputs": [],
   "source": []
  }
 ],
 "metadata": {
  "kernelspec": {
   "display_name": "Python 3 (ipykernel)",
   "language": "python",
   "name": "python3"
  },
  "language_info": {
   "codemirror_mode": {
    "name": "ipython",
    "version": 3
   },
   "file_extension": ".py",
   "mimetype": "text/x-python",
   "name": "python",
   "nbconvert_exporter": "python",
   "pygments_lexer": "ipython3",
   "version": "3.11.3"
  }
 },
 "nbformat": 4,
 "nbformat_minor": 5
}
