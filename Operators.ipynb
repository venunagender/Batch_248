{
 "cells": [
  {
   "cell_type": "markdown",
   "id": "f94cf123",
   "metadata": {},
   "source": [
    "#OPERATORS"
   ]
  },
  {
   "cell_type": "code",
   "execution_count": null,
   "id": "002e6bb8",
   "metadata": {},
   "outputs": [],
   "source": [
    "\"\"\" Operators in python are generally of  types:\n",
    "    1) Arithematic Operators\n",
    "    2) Comparison Operators\n",
    "    3) Identity Operators\n",
    "    4) Logical Operators\n",
    "    5) Bitwise Operators\n",
    "    6) Assignment Operators\n"
   ]
  },
  {
   "cell_type": "code",
   "execution_count": 1,
   "id": "c80ed3bb",
   "metadata": {},
   "outputs": [
    {
     "name": "stdout",
     "output_type": "stream",
     "text": [
      "Addition Of a and b is: 3\n",
      "subtraction Of a and b is: -1\n",
      "Multiplication Of a and b is: 2\n",
      "Division Of a and b is: 0.5\n",
      "Floor Division Of a and b is: 0\n",
      "Modulos Of a and b is: 1\n"
     ]
    }
   ],
   "source": [
    "# Arithematic Operators\n",
    "a = 1 \n",
    "b = 2\n",
    "print(\"Addition Of a and b is:\",a+b)        # \"+\" operator used for adding two values\n",
    "print(\"subtraction Of a and b is\",a-b)      # \"-\" operator used for adding two values\n",
    "print(\"Multiplication Of a and b is:\",a*b)  # \"*\" operator used for adding two values\n",
    "print(\"Division Of a and b is:\",a/b)        # \"/\" operator used for adding two values\n",
    "print(\"Floor Division Of a and b is:\",a//b) # \"//\" operator used for adding two values\n",
    "print(\"Modulos Of a and b is:\",a%b)         # \"%\" operator used for adding two values\n",
    "print(\"Exponent Of a and b is:\",a**b)       # \"**\" operator used for adding two values\n"
   ]
  },
  {
   "cell_type": "code",
   "execution_count": 4,
   "id": "c40bc26d",
   "metadata": {},
   "outputs": [
    {
     "name": "stdout",
     "output_type": "stream",
     "text": [
      "1 >  2 =  False\n",
      "1 <  2 =  False\n",
      "1 == 2 =  False\n",
      "1 >= 2 =  False\n",
      "1 <= 2 =  False\n",
      "1 != 2 =  False\n"
     ]
    }
   ],
   "source": [
    "# Comparison Operators\n",
    "#Compring a and b values by using Compariso operators a=1 and b=2\n",
    "print(\"{} >  {} = \".format(a,b),a>b)  #checks whether a is greater than b\n",
    "print(\"{} <  {} = \".format(a,b),a>b)  #Checks whether a is less than b\n",
    "print(\"{} == {} = \".format(a,b),a>b) #Checks whether a is equal to b\n",
    "print(\"{} >= {} = \".format(a,b),a>b) #Checks whether a is greater than or equal to b\n",
    "print(\"{} <= {} = \".format(a,b),a>b) #Checks whether a is less than or equal to b\n",
    "print(\"{} != {} = \".format(a,b),a>b) #checks whether a is not equal to b\n"
   ]
  },
  {
   "cell_type": "code",
   "execution_count": 5,
   "id": "b9850266",
   "metadata": {},
   "outputs": [
    {
     "name": "stdout",
     "output_type": "stream",
     "text": [
      "1 is 2 False\n",
      "1 is 2 True\n"
     ]
    }
   ],
   "source": [
    "# Identity Operators\n",
    "print(\"{} is {}\".format(a,b),a is b) # checks whether a and b are having same address location\n",
    "print(\"{} is {}\".format(a,b),a is not b) # checks whether a and b are having different address location"
   ]
  },
  {
   "cell_type": "code",
   "execution_count": 7,
   "id": "9281c4b2",
   "metadata": {},
   "outputs": [
    {
     "name": "stdout",
     "output_type": "stream",
     "text": [
      "False\n",
      "True\n"
     ]
    }
   ],
   "source": [
    "# Logical Operators\n",
    "print(a>b and 3<5) #Displays boolean value based on logical and operation\n",
    "print(a>b or 3<5) #Displays boolean value based on logical or operation"
   ]
  },
  {
   "cell_type": "code",
   "execution_count": 9,
   "id": "d3d79ced",
   "metadata": {},
   "outputs": [
    {
     "name": "stdout",
     "output_type": "stream",
     "text": [
      "0\n",
      "3\n",
      "3\n",
      "-2 -3\n",
      "4\n",
      "0\n"
     ]
    }
   ],
   "source": [
    "# Bitwise Operators\n",
    "print(a&b) #Gives the output by performing AND(&) operation bitwise\n",
    "print(a|b) #Gives the output by performing OR(|) operation bitwise\n",
    "print(a^b) #Gives the output by performing EXOR(^) operation bitwise\n",
    "print(~a, ~b) #Gives the output by performing NOT(~) operation bitwise\n",
    "print(a<<b) #Gives the output by performing LEFT SHIFT(<<) operation bitwise\n",
    "print(a>>b) #Gives the output by performing RIGHT SHIFT(>>) operation bitwise"
   ]
  },
  {
   "cell_type": "code",
   "execution_count": 16,
   "id": "5476197a",
   "metadata": {},
   "outputs": [
    {
     "name": "stdout",
     "output_type": "stream",
     "text": [
      "6\n",
      "12\n",
      "6\n",
      "36\n",
      "6.0\n",
      "1.0\n",
      "1.0\n",
      "1.0\n",
      "4\n",
      "6\n",
      "0\n",
      "0\n",
      "0\n"
     ]
    }
   ],
   "source": [
    "# Assignment Operators\n",
    "a=b\n",
    "print(a) #a value is assigned to a\n",
    "a+=b\n",
    "print(a) #increments a value by b\n",
    "a-=b\n",
    "print(a) #decrements a value by b\n",
    "a*=b\n",
    "print(a) #Multiplies a value by b and stores in a\n",
    "a/=b\n",
    "print(a) #divides a value by b and stores in a\n",
    "a//=b\n",
    "print(a) #floor divides a value by b and stores in a\n",
    "a%=b\n",
    "print(a) #modulos a value by b and stores in a\n",
    "a**=b\n",
    "print(a) #exponents a value by b and stores in a\n",
    "a = 5    #changing A value to integer to avoid Type error\n",
    "a&=b\n",
    "print(a) #performs AND(&) with a value by b and stores in a\n",
    "a|=b\n",
    "print(a) #performs OR(|) with a value by b and stores in a\n",
    "a^=b\n",
    "print(a) #performs EXOR(^) with a value by b and stores in a\n",
    "a<<=b\n",
    "print(a) #performs LEFT SHIFT(<<) with a value by b and stores in a\n",
    "a>>=b\n",
    "print(a) #performs RIGHT SHIFT(>>) with a value by b and stores in a\n"
   ]
  },
  {
   "cell_type": "code",
   "execution_count": null,
   "id": "6dffd855",
   "metadata": {},
   "outputs": [],
   "source": []
  }
 ],
 "metadata": {
  "kernelspec": {
   "display_name": "Python 3 (ipykernel)",
   "language": "python",
   "name": "python3"
  },
  "language_info": {
   "codemirror_mode": {
    "name": "ipython",
    "version": 3
   },
   "file_extension": ".py",
   "mimetype": "text/x-python",
   "name": "python",
   "nbconvert_exporter": "python",
   "pygments_lexer": "ipython3",
   "version": "3.11.3"
  }
 },
 "nbformat": 4,
 "nbformat_minor": 5
}
