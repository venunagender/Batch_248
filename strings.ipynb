{
 "cells": [
  {
   "cell_type": "markdown",
   "id": "cdf73cb4",
   "metadata": {},
   "source": [
    "# STRINGS"
   ]
  },
  {
   "cell_type": "code",
   "execution_count": 1,
   "id": "e4a34b26",
   "metadata": {},
   "outputs": [
    {
     "name": "stdout",
     "output_type": "stream",
     "text": [
      "string initialized using single quotes.\n",
      "string initialized using double quotes.\n",
      "string initialized using triple quotes\n",
      "we can also intialize multiline strings.\n"
     ]
    }
   ],
   "source": [
    "# Strings is a sequential data type.\n",
    "sample1 = 'string initialized using single quotes.'\n",
    "sample2 = \"string initialized using double quotes.\"\n",
    "sample3 = '''string initialized using triple quotes\n",
    "we can also intialize multiline strings.'''\n",
    "print(sample1, sample2, sample3, sep= '\\n')\n"
   ]
  },
  {
   "cell_type": "code",
   "execution_count": 5,
   "id": "6e81bc2d",
   "metadata": {},
   "outputs": [
    {
     "data": {
      "text/plain": [
       "'HELLO'"
      ]
     },
     "execution_count": 5,
     "metadata": {},
     "output_type": "execute_result"
    }
   ],
   "source": [
    "#Strings are immutable.If we need to store the change then the updated value should be assigned to a new variable.\n",
    "x = \"hello\"\n",
    "x.upper() #here the changes are only temporary"
   ]
  },
  {
   "cell_type": "code",
   "execution_count": 7,
   "id": "82d0d364",
   "metadata": {},
   "outputs": [
    {
     "data": {
      "text/plain": [
       "('hello', 'HELLO')"
      ]
     },
     "execution_count": 7,
     "metadata": {},
     "output_type": "execute_result"
    }
   ],
   "source": [
    "y = x.upper()\n",
    "x, y\n"
   ]
  },
  {
   "cell_type": "markdown",
   "id": "0a5ca2ac",
   "metadata": {},
   "source": [
    "## Indexing :"
   ]
  },
  {
   "cell_type": "markdown",
   "id": "75067b31",
   "metadata": {},
   "source": [
    "Indexing is basically the numerical values given to every character present in the string in a sequential manner.\n",
    "\n",
    "Indexing is of two types:\n",
    "\n",
    "* Positive Indexing\n",
    "\n",
    "* Negative Indexing"
   ]
  },
  {
   "cell_type": "markdown",
   "id": "5d477711",
   "metadata": {},
   "source": [
    "## Positive Indexing :"
   ]
  },
  {
   "cell_type": "markdown",
   "id": "92873fbc",
   "metadata": {},
   "source": [
    "var_name[start_value:stop_value:step_count]\n",
    "\n",
    "* start_value represents the value from where the slicing should start.\n",
    "\n",
    "* stop_value represents the value of ending the silicing.\n",
    "\n",
    "* step_count represents the no.of values should be skipped intermediately."
   ]
  },
  {
   "cell_type": "code",
   "execution_count": 24,
   "id": "d5d687a3",
   "metadata": {},
   "outputs": [
    {
     "data": {
      "text/plain": [
       "'Welcome to Innomatics'"
      ]
     },
     "execution_count": 24,
     "metadata": {},
     "output_type": "execute_result"
    }
   ],
   "source": [
    "x = \"Welcome to Innomatics\" \n",
    "x[0:len(x)]  #Example for positive Indexing"
   ]
  },
  {
   "cell_type": "markdown",
   "id": "df151426",
   "metadata": {},
   "source": [
    "![](https://www.pylenin.com/content/images/2022/12/positive-indexing-list.png)"
   ]
  },
  {
   "cell_type": "markdown",
   "id": "42355404",
   "metadata": {},
   "source": [
    "## Negative Indexing :"
   ]
  },
  {
   "cell_type": "markdown",
   "id": "f99845a6",
   "metadata": {},
   "source": [
    "var_name[-(start_val):-(stop_value):-(step_count)]\n",
    "\n",
    "* start_value represents the value from where the slicing should start.\n",
    "\n",
    "* stop_value represents the value of ending the silicing.\n",
    "\n",
    "* step_count represents the no.of values should be skipped intermediately."
   ]
  },
  {
   "cell_type": "code",
   "execution_count": 23,
   "id": "6b823212",
   "metadata": {},
   "outputs": [
    {
     "data": {
      "text/plain": [
       "'Welcome to Innomatic'"
      ]
     },
     "execution_count": 23,
     "metadata": {},
     "output_type": "execute_result"
    }
   ],
   "source": [
    "x = \"Welcome to Innomatics\"\n",
    "x[-21:-1] #Example for negative Indexing "
   ]
  },
  {
   "cell_type": "markdown",
   "id": "b48a504a",
   "metadata": {},
   "source": [
    "![](data:image/png;base64,iVBORw0KGgoAAAANSUhEUgAAARwAAACxCAMAAAAh3/JWAAAB5lBMVEX///81jfb///yy0vQvi/g1jvQ1jfX1//8rhetio+81jfgnh/MAAAD///7l5eX4+PjZ2dm4uLjAwMDR0dFIlezj4Nzz8/Ps7Ozf399IlO/W1tbHx8ewsLAniPLd3d3KysqqrbSpqamgoKCJiYkddNSYmJhATmhua2oQWaV0dHQNTIhFRUWBgYGamppthaUxf96QmaU7fMOfuMx4g5SIm7FSUlIhISFBcrQ3ZqAsLCw/Z5oFPWwDSY/FztRAQEBkZGQOX7N2mMAgZ7VYhsVYWFj/4X9XfK8XFxcpKSn9128Va8M8ZJhmcn7z1boAAAtlWzO2wcw3d8Y6dq8jV5ssDACIWVBQKyM0g99tQzcNNl8WRGmuZlP/i3TkgHEADC3/gmxEFAB2PS9kkcfYfGwAHDC4cGqdxfEAG0EAAC81X4oAFBbFdmI7CQCNTkDyiYTU7PeEtOyiW1VZNSaGdmnOuKJIQjksJh6jk4Dj0cL53L8vLRQgFABPRzHp0X9uX1Q8HyVhQkSrk2C6r28yIwBsWyxKOxq2opBUovr72oWKd0tMVFEOFAPTvG9hXkOGeFw+Qk2T0/glNEsAM2p0tPQASZxCZIjn+uq/6s9Zs28kqk6H0aB5zYscsFml0K+wxa4roWY3n3SCwKTm36N9AAAbLElEQVR4nO2di2Pbxn3HDxIAixAEEIAKgARIBIAxmiaZOnUpW15KZhkVyUrs1HlUfTjrIxu7dG2trnbcLE23tlvtrA9r1eIma9Js/+nudweAeFAQLVEP2/y2Vsi7wxH44HdP/O6AGIYRBIHjWY4TGIHjOAZ/gP/iTziK4eAPz4cfwwBhggAuE8BMGJDNaf+AaZ8NiAEh8o2vCDdef+3yi5gIv/X6pcvnZnBGcAThxhtvvvHm185zzJb45te+/vVvFMN59BNm8gEHzfpIz4ZhuJBMCAeL++a3bt68+dbfcczlr9+8+e2b4laFZ1mGYZ8+4cLD8TEcTEoQXv/Oj79987vfLJW+J7598+a3/r701GqZW+RCOggqYIZnSxfEt7/TR1ia+A/f3ZBRqKUl9LTpzHCLjSznue9//xv/+M4Z5IgdGin9oLGEpNZq4wc+hnOyJ3oyulUJLady/Z/e/slbP3SAguQFQWCR+I1vvf2jH/9QeRotB1/zrQUKZ1l869u4trFxYENcffDgwfUVDX/GoTdvftd9Ki0HX/N2jeMFXOec/85bN3+0iiuZweorRAOxjNAz4ls3f7Kin/R5npRu1aAng3jm8hv/PMCwLLH5Skinh6NV8WsP5H0zeVJ1qwadHcSzwovvwPdG95UH1693gY4oYdMy2/tUx5KB1BCfVM3FGlrBoXK5+NxUarLVye6OZmQDpOS3/LntrzMLtCnH5rMM37uD9Z/evn3nwSv99fUov7k9zqYnbtioYaNenQa47VwapZH40ltfX3XDzzKmVl0tPrdWFWkYzLpUnAyrjjE2lExg00580cUDFIAzCxyBU1k+L3axjTQH4rVr13727sZKD1sOUsSesUeuOo43HNRUENwyQ5KRrCNdNkyINEyZHEeDJJKFvC7JRs8mN9iwREMu95BJjANbH8LpJfJFx391Gf4ZyBAdA60aEsWjyzrJXCZH4b84dyThzPWuayAdkVQGzY4kx1/ooYakr8iIfIHTgkNIHpJUiCyEU/nGyp1rd/BtdUWAc+3a3TvrIj4B8fZdcaU+tik3RPK7GI6oI3+juyLZbeSvtnq4Wu+sD3rE8NQB6qy2WqROl9fxSat9H3ekvPZAHFTr662uqCFppbvRRqaIv0AHwsLG1sJ9qxWcPhC7HdRrddd9+KmgR3JyVhorFq4cB71VD/Vb3RXdXm+10UBrQ86+3Bu0iAn3VbTa7a7g7Job3daGLLcGrSZSWkjpImulv2GhQWvQnQDOlviz9+7+y/s2Gtx+9zbovTu3e+bc6s83br/3Uw/DGUMHW5WvEziygwuIKQOcJj4pRSJcCZw+6gwQansAZwXDaQQ6jlzRjQ1cGPAnq4VaKqahStjuNVLOVrB99ZDURStgNfg7jhfBGDr4SpoeBMvrsoiNqOshfOcx7YaDf9YxVnBC1MS3uOvAbVNRz4VD1R40NKjtEmDtJr57+H7igiYWkRnB4c6L7//8/gfvu35j9fYv/vXfxPfevStK13+59itR3DDGw8FW6W9QOG4AXwEOLue+q2EeqKeFcAK4nwTO+roI8FSniSQMBxcrZPYQnKIbSD0oqZCNrwZK2/FVoLCBrRMAgdGhACN2fV0ctLobJiTteMhb7a4GqGEBHDRwsNn1ut1WT6FwVvHhrbLXgR9HAxxDaOGKAPJY1T1x1ZsADsNzl8TfXb3/68Dr3f3NG2/+9mfrTeX6r66u/XuTJJvLV8o6VMOinLEcF+DIuLA40E8COAHAAXikWGHVe606ktZjOGA5PXUER+puoPIA5zgeDvksg1FIogtk8Q/0AY6Fqt2uCbaFSE0SwalaPeiTEPPFxXvQwfliy6GJxPoEcAidD67e/4+2Lt7+zU+v/cI3xN+trX3Yp8nm8pZjrK72RQ9aK6hz1rvrkt0kpotPotzaaPcInAEKsNV0iOWIYWPbhYK+0nXrULRWkLHSXW/DhxAOWsU3ZAMfgSu1YKMP/yH/KOY2HhMPVgKk9zcGmMOg38AVkr0+QAMMqNfCP9PqtUjx7CtoHZe9noPa693WOq5zcIWIggautGgeuthtTVLn4H/sPVW8f/X+q01H/MXdd5saNqS1DwdhOz62VBlQ48sy3A6kS+Qj/j/8Ay4iaXviIERuG9HAIQYSHggZRR9oCtLMyXFUHBHlRJo1uOMtizRNOMgwEr9j0Jsgj35AJ4lIBPkq0zyidm0fODzP8MvIfv+Dq2uvPrjzm7t3//O3mM0vH8hzoMIcxqmx2lpx94gb9PqPnN8YdVa6q81pZFSgkeVgOMj99drVtd+vXnvvLrabq7+8LqODwcE3Zu8OxP59uskkHfmYL4YjABwU/Hpt7Q8/v969g0vYr3DBWCI66pM4rcrAQe0P1/4g/v7VdzEc8akdjUcK4cBjCAJHfXXtQ9xK3X/1/gcPTvrcTlwjy4nh3F+7CprBSbRWEZyroWZwEnCECnxPwXlqa+JQeThroTCcA7ThT5RycMRYvZM+txPXqEIWSJ0zNyfHenKK1QEvJNtaHeCH55D6TEaurWRku7k02SRKNsUzz+SyyeUySTb2QeuHbCfwAJpDzy7Uaosj1Wov5qZJLmyyYRz9W6v9VTaJ9DzHjbLAYp/PzSf0KzicB5EUfG0hN1DTzuFfqi1GZ4RTv3yCcJbQs3zkz8IT9w3+Rm7UeeEsTUBcWvBfTsjDOc/jWCFKx/PC6+VseehXQreZMBkrNNIJ5ua017mUBObK4YvVYSyHZ+F68fXwMDHEcTfylnOWXG9IhsOJxsARBPp0OsxrHBwmdpshErhGNhvtHAOWFQEWGOHK4S3noHUOsZwITnhp4+AIKTj8WDhsDAdMEMPJppkYDpgWcU0icE6sQsZ6lsMnwnM8y7JwTmPhbJJTJldO8OwJh+cE6hnDj4MTOhSR4lsMJ/ZkY68c9LqmBAfOh6ttD4clFvws83A6m+RySEUB+PJwliLLYSu7PNgHx4yBw8XljkvDieePMBwQK/AsocwxU4BDO4EH0rP0TvPzy8vzJTZZrHQ9POkIDrdcWWSFJBxZprNfERyeLQ1rpPTwERwdmWHiEI7A3atkLMd3wl/SzpGSx/H3KvA0Fxv0ScMhJ8rOL7KlbSEJZzVIwuH5xeFwuM2milU3sOljZIADlRGGswgtEh/DCZpKn+bTp+WNm9/GAJNw5KYdTj+FcJjd4fw2e2rgcDV8yvMVaI5jOHEvhMDBVn5re/vWApuEg6/OI7ZD4GAROKTVi+EYSKEP7sM6h5sfLrNpy/GiuXIMB7oUbGV7e74m0Ar5gJoSHPC25Jn50j2oThgh7gTGU+C4tSJw5rcqFbj3TAwHHojSJ+ZJODxUzDEcfQSHlpmt5VucUARHWJhffm5nanAOVyGT0r2zKEBblLAcP0pyIbSc0s7OLrjKj5ryht+m/hERHKG0jfMBV+AIjqcjlXaWw2JV2dnZydQ5WjP0dgmLFb+7MwzTTAHOgTuBAIf0t/iFsKEFOJmuBRQrsCphYbEmQEUQw4n8VuYiOKQvCR2dcU05rZCZha2FvZvysEJmFmpwO04eDh/5xu8J54ZAOq4MC20wn7CcqCFCIzhC6Dj//F79HEFghX3g8OHo4fTACelAnTMGDukgMuCDiPtF4zuBHAEYwdm7Eyjw1P1+PBzioE86yGCu0+jnHBYOM+rZ7w2HmDuGUzx8CDvABXDiXyqAE1KcSlN+uOGDIIyGyxhOblSO4YTDbZ4u2eDHwomG2wL5MH5sJYyEC+lYOGEicjLcNEblh4GzeTatc74hpWRcPJdJcva/pIycP25l8vmjmklidLO/dHaQ+SVJeT6d4MbmO+M8aB4NjnBwOMYXsjLLGeVSfEHKJqnn09QzSapmPk0um1waaQpwDt4JBCUs91gfrucuexyIpROGg1VuBHGnj/JRm0HG/bblB+vpZ/Byc3QUVd9v5/xm2mnfDB1nQ7uF0Z0wGz4df0V3Rm6PZlAPeLumCQePFTrlbEiQvk511OsL1cmB8LMBuI/sZEOqdi6Rm3HEPrT7zlQqZJBsyJavNBOe0rqBtG67kU6Dr7OcCkFNr52kYeio2W4njQvysZGXDkFNP+kBBD5bcvanpgjnEP0ckOSp+BTVxB1WPQOfnptgoXla5n5WvXLTRJY1CnGhF2AmUeB8eoEPbpWRbA88rZNIXVeWG0lamlc9RXAQLHTQMufTtsxmptTYVvo7qvpSOo3plf1cKdLTZU3yqoGaCpF7Vnb1w6mCI1u5a3LUbI1iZpMgKZvGVPOJss5yppp5pqU7jpVNs9eJTqppwnniNLUK+UnUDE6BZnAKNM1O4BOnGZwCzeAUaCpTFk+qZhVygWadwALN4BRoBqdAszqnQDM4BZrBKdCsE1igGZwCTR9OYKmRLP+FhL40nfyPUdOHk5zafWYhfobOs1967JYoTb9CzsCJHSJqjzOcvTuB4UMkebLtedJwiMcScZSpPc7Fak84qgXPhVxkBPk4Ob/vAIVDHwRQOMQNizs+OIaJJHjykHr6YNJz0h/lkUQBHNP1UFMLXLp1Vqdq5B/AYhTd7AYDBE65SQ6COofld4fLLHcscAaij6+/U5eVOlIk01AlpGhI1g1k1G1FUevk+Zdq6hYO13VD11TTQnUHOaqcfz5fBEdSm7qLfKTqqorsMjafVHSzD2qKrcxhBI5MQWI4PMeVdoe1Y4Eji+IKnIEtq9jSddfVPRe5uqzaqmI7hq27Mr4IWfOtqo08R9NMz3A1J1Acrz7m2XtRheyVG7pN4ODPXrU+1nIauVUOtFj5oeXgYrWws31McJA7wL8uO5amuKpTd23kalZbR64TmG5VtZEtIw+Zim8ZjupLbsdUZLVseZauSlbeoaGwtTJ02OEFKWV4dG/o+rhdivJbOlA4dM0DwGH4SgUWyhxjnUP2izFglapsKB2yTw2CAFg9ItMdaSBcp9cH3gzy2PZmgmlSPXzwaky2fUm6tSK+ruB4fIxwUtprs7q9wpM6yk7gUgiHegVjOI/bauMj7yGTDiDsTb34OPdzpgVH0WJVn/mbhL46nfyPUcc5n3NAt8WT02wOuUAzOAU6UjiZYjQ3txQpHbO01xEnrJnlFGjqFbL85YQuqAldSEYoiQgveYibiFBOeBPv6cPZDN+5gTs3wh+TMS+TBWQCi/8nnEu6O15cYMm+HqAvXkhEOCe839y04SzJm+GSKY5jhb9ORr1MN2ogsS9m4ISrF3khBcc6NXCm1AmUNwWykwR5B1QaDk/WwJK1Zi+k4MAGDYTN0wGnsluq8WPg8FwNQ+PycPAhsCr6MYRThqkOPMB3JqggCZzF4fLuNs6Ywgm38H+ZlKjdEq6LeFqsJI385yIHi+SHy0wMR6+SQx4ZjtqGtSGuLZNl6Kl1IlWJTMBJY1adhAnyQUVTFgbdYB6WschIVgNljGd5kOWF4TBwpaVhTeAoHJ8e9jKHa+Pd7WGJjSynadgwDXJxC5b7bldGcBRVAzqPCkcWxVX8t1NHqu3YmuLaXtVuy7pj1xXbVRTbQ8jDV+I5HUfx8eDPbLtBx3Bdo+nl1iGgwgpZUn3U13wFlgXB5TWQk4RDFw3aq5k3OxA4teF2CaMI4YSTZBgOU9veLVX4CE4bORqFw6QtRzV09QBwUAu2MUey5sA0KXIVZMM0KXJV14JpUqTATKCk+I5uy27VceoKsupKYJmWYRVOk+Y6gXWljTpk8RPsYF1FRkdLwgl8rCAQ08svaGsl7OKmKoajRXCgrdrehhXfFI6vkBVIF7egKi4lLKeuy+ZB4NANVXD/yNR0pVwto6ps+zKqG45c1ZU6Ksv4ZGRVkXRd8bF56XVkGoajyqYuZVdOFMOxlCbmTOBIdSQHtqLlNywfZBfBEMuB3WuYGA5KwOHounpa54RTP8RyGNoLmnaFrCvj31li7BGe0kTDh2Z4kv4ED30oHB6Wdo+BE67N59L9nK1wyfXpbcqLOoFy6j+Fwj3kcD8xgc3AgYuna8szncB4j7eM5TxpPWQk//fZTaqzZ89+vz6S9Nc07CyOP/u8YsYR5iubsc6+cDER4T5hcJaQMUVN44wOoSn3kJfmUuu6DzA9c5pmdKY/wZ6E88jPYk7Xw5ujdHvba7pvby0dcF+FI9Jpg3OqTGfqFfLe11dgFVHMpJYT/8YSvLLjyIhOfw55tNm0fEZO6cxImYhEkj0isnklIo7O2KYP56XnYt04X67Gql8ZRTz3kTaKKF9+7kYc8Y42OsT8KHHEZWUUUb+YiLh0dA3+1OEsXaKjBNhojX0+GfOaIJCNXWEYdTnZ2b4Eb7amm1YJr59JRLzExDsxCS+O5lvm0JdhA0CW7BPLnn2M4KBLZJ6YwGHScIgvCtnlLgNHEOjLwmHfxGTESzzdlQxGa2k4PN0BC/4cC5xpPSu/FL3/PQeH+iPDiJQZA6dGpp1TcK7Qywc4Gcshk4q1GozkNx8zOLCHJkxNhHDC632NGA7LjoXD1XZhk8UcHJYRFsjcUA4OV9nZ3a0xzFYejlM1wNNKTs3QmDKZWJIssi1LdsJi7CunJloAq5ABYFlWJhkIXoINs+8NS2wlgtOgcz6vwTTG8vAezGdQOJpCBucUznBhZDm+QmYPr0Blc2+4w8WWI8EpEDg8Vxku7mBIX0zA8Xswn2dZuiaZpmJIjqJLioNMzKJcb0u+YiDZLle1uhrgrCykakhRZFWzOkYVSYaS4VzUCawa8HZQEyEPnFWRozj5ya5+bv4M4NSWd3cWsKFQOOE0KbYcvjbcrfAxHB8FSThQhkI4SJUoHI4d7m7fiy1HhfmxsFhx89vbtRSc0JtUVl3NVFxkYAS2h39D0ppVRwHPWBvm8DzZxYFqXXFsL0CK4fhSWSs7SqBlPK0L4BhVX+4bTQc2TjWxLcpKag5ZJU907ejl7yk4i8PlnUXcBIVw5AgOwyx/b6cWw3FRZwRnh2NjOA2FPCQgxao0BAQRHCmGw1Z2arVMa9UU4fJMNXDKiqvUVQ/ZqtKGnYf7suKW8VdkwfSyh/O3JFVy8f/bdc83Akv2q6qSeQJRAMdR2oZNpknh1ttWBo6lWli2mPVhJ8VqebfEMlGFrKsxHKG0vQwVNoUjUSdzAoffgp0YmfOh5RBdwa0VzKtC20ThEDdHCkdgtsgeuPu0VpqSfadwSoZS8CbPggq5bPv4suDaPUnD1YZuOflp0vwDjUtkN2wWauRcUw7zyvwITnQEmTmFJ8hMCCfUFVJH08380xUy/AbdmnXf1mqf6cui6In6OX5YEQcTONviTmC4UkbINOWXhHC7UCHTWt0ItyTNtVakn0Mx8JtpONHewPzxNOVT6gTOXSJ1B+26ZeCE4azAvZyyHCbc2xTeg5EceV4Rwqz4lOUgDEeI+84TdAINeKMndTyW4VXV8KhSRyrS97Gq6feQn/3bkT7SnFhaMuJZJxHx0UsjfZR8984ryQhllJd2MRFxZd/+hey4mm1rzXq1XG4rHbfuuk5gm4Hm7VMSngbPLk1pO7Krtw1LLSu4wVM6qoY7QgrSsi1tRkfmagsvR01NJiyBRyB5Z+rcUvLNqcmwpeyEzlyczfgdNJcmeQUr7uUZSLJ96B1KSNLlqiobul6tjttVLqnj80NOsUpjS37ec6qseH/Rfd/FKluPXnE//ovuqWdqzlCnocd/XfljBGdp7isJaUl9ZaKYgz/knP506fTd3l6I3/y2UEt7k3ILkRbT3qRbC4thOHf2NC0fmfqeXfIm6SGT16rwKUeCK6Svy5N3Y6QdCSoVNvLP3TqdcKbmh0w9amFeOAOHvhmNrNvLWA5Hus3gg3FK4ezZCaxWwZMs/KKbuZ1r05I3BfAXLXEspjAODhl1ncu4oFCnFazHBY6sybJhGBJMx/hShwxEOgZKTwi1sxUo8SatDXe3d4XYSZsOYSgcGGYLTAiHRlyEaS6BOEwyXzwUHJc4mtl23ch5k5YNBLe17uXeJREr1xEqgFM2O1JT70suvoR2uV/FGBRTQ1GX24HpHMcVM9MlpFjVhgtbO7ishN6kNAk4TAql4XCZ50I4TTUAtgQOOySOyIeCQ2cC8bjAkaqWLVXxgKqqdJAme8jSmlJHcfDtCGDaTpXcsu0bdcMMXNuVbdvouFJTstNTywV1jqv6EszneDI+BhB5eNjWkCI4rgfqiJmpxdBytrcrfGQ5SW/S4e5uCQ/CQ4dJVLcoHEGgcITDWQ7ZkQBJgSLBFJfi4pPEF6DbrmuqLiIbudsGzL75mtFBrulImmJYdctTVcuo2shO1xkFcBQ1MBykkFlOy3aq1FMTpQdr/ey0MvVD3l7g2NiDXRnBEZaHQ5jZC+HYJLOoWPGHLlZEhuI6hqPakqMi1YR30nWwuThW1cJn4nTw9Uu2V9clu4HZmY5RlSRsOVVDsmFd/oRwIrkpW6vvM5KlDpPhM7eMwyQELsIzmxBOOMN6kc5akWZ+CnBSqrtZd9dIpqvuERPrKNY+RJNaGW/SK+ELnkZwQlE4RNy04RxKRwEnesLNZ7xJhfjFwVwazkK4xw7DH7LOmbKOYPjAwjujyWggM3yocQuw6AxHZzqBJJgcUjutw4fpDDzPfDXWV76qpoaXyZhkhBUNOiFisg0zjkfT9+xKfZtGlienp2EO+cCawSnQDE6BZnAK9PhPsB+hZnAKNHu1QYEe/0czR6gZnALN4BRoViEXaNbPKdAMToFODZzTtUaP6tTAOY06NRXy3MMT/fmxOhVwcJH608ef/M/DU7VuGp0WOA///AnWx386ZTOHIzjsCXYCP/vkkz//6eNPP33Yb8aPssOtZ8Zt331ciuEw7AnWORjOZ+jhp58/bNpBQ/Hb5WZDa1iNhtSwe3bQPKntAhNwTtZyPkOfffq51FWMttUM3AA1m4rasZpOU3abY7bTOhadBstZwnA+/ctfPv78c8lHRqA3fK3VVtuq5Sq+57uNZn6Z1/EIw+EpHGHhzP7Jj0gPP38oGQ//9/+iJzvSmPdvHL+Wbi0SOLDjT+3WyXVTH9YdrVqeO1V7WSyh+UVSrMh2SKUTgzO3JEuGQfz7T+YExmgOnVkma90pnIUheURJAYVLEo5JX9AMTXP0Y/3NIpFHt7tkjzUCh2f4xd2Tq3ZOlcBGbpUWqcsMgu0AGI5jt3Z35mfCGpYWaqE/ESI7LNB9Jqj3eW1xL9USf3PBBw2osYfKY8pnA9fPx9sTj+DEO/mFLsPJYJ7uUcGEfycJYLgJA/h9Ugh8LuAIzyZUCg74VjFhbBoOT938yG4c0d9xAXxxAJMLCNOFjl2JgFyK/X98emcTwonqnJn21P8DpGzjhe8CL2AAAAAASUVORK5CYII=)"
   ]
  },
  {
   "cell_type": "markdown",
   "id": "16cf7a8f",
   "metadata": {},
   "source": [
    "## Slicing : "
   ]
  },
  {
   "cell_type": "markdown",
   "id": "fbd7b645",
   "metadata": {},
   "source": [
    "We can get the desired outcome from a string by performing slicing.\n",
    "\n",
    "* slicing of string can be done by using indexing.\n"
   ]
  },
  {
   "cell_type": "code",
   "execution_count": 28,
   "id": "477f6987",
   "metadata": {},
   "outputs": [
    {
     "data": {
      "text/plain": [
       "('Welcome', 'Welcome ')"
      ]
     },
     "execution_count": 28,
     "metadata": {},
     "output_type": "execute_result"
    }
   ],
   "source": [
    "#Example of Slicing using Positive Indexing.\n",
    "# slicing 'Welcome' from string.\n",
    "x[0:7], x[:8] #The default value of start_value is '0'."
   ]
  },
  {
   "cell_type": "code",
   "execution_count": 32,
   "id": "927b86cd",
   "metadata": {},
   "outputs": [
    {
     "data": {
      "text/plain": [
       "('Welcome', 'Welcome')"
      ]
     },
     "execution_count": 32,
     "metadata": {},
     "output_type": "execute_result"
    }
   ],
   "source": [
    "#Example of Slicing using negative Indexing.\n",
    "# slicing 'Welcome' from string.\n",
    "x[-21:-14], x[:-14] #The default value of start_value is '-(length_of_the_string)'."
   ]
  },
  {
   "cell_type": "code",
   "execution_count": 34,
   "id": "d3018d0c",
   "metadata": {},
   "outputs": [
    {
     "data": {
      "text/plain": [
       "'Wloet noais'"
      ]
     },
     "execution_count": 34,
     "metadata": {},
     "output_type": "execute_result"
    }
   ],
   "source": [
    "# Slicing with use_case of step_count\n",
    "# Slicing the even index values from string \"Welcome to Innomatics\"\".\n",
    "x[:len(x):2]   #By using Positive Indexing"
   ]
  },
  {
   "cell_type": "code",
   "execution_count": 45,
   "id": "80f4da9a",
   "metadata": {},
   "outputs": [
    {
     "data": {
      "text/plain": [
       "'Wloet noais'"
      ]
     },
     "execution_count": 45,
     "metadata": {},
     "output_type": "execute_result"
    }
   ],
   "source": [
    "# Slicing with use_case of step_count\n",
    "# Slicing the even index values from string \"Welcome to Innomatics\"\".\n",
    "x[-1::-2] [::-1]  #By using negative Indexing [::-1] used to print reverse of the string."
   ]
  },
  {
   "cell_type": "code",
   "execution_count": 47,
   "id": "918d0f4f",
   "metadata": {},
   "outputs": [
    {
     "data": {
      "text/plain": [
       "'hello'"
      ]
     },
     "execution_count": 47,
     "metadata": {},
     "output_type": "execute_result"
    }
   ],
   "source": [
    "x = 'Hello' \n",
    "x.lower()      #Converts every character into its lower case"
   ]
  },
  {
   "cell_type": "code",
   "execution_count": 48,
   "id": "3192a905",
   "metadata": {},
   "outputs": [
    {
     "data": {
      "text/plain": [
       "'HELLO'"
      ]
     },
     "execution_count": 48,
     "metadata": {},
     "output_type": "execute_result"
    }
   ],
   "source": [
    "x = 'Hello' \n",
    "x.upper()      #Converts every character into its upper case"
   ]
  },
  {
   "cell_type": "code",
   "execution_count": 81,
   "id": "baabb9e1",
   "metadata": {},
   "outputs": [
    {
     "data": {
      "text/plain": [
       "'Hello World @$%%$$Python'"
      ]
     },
     "execution_count": 81,
     "metadata": {},
     "output_type": "execute_result"
    }
   ],
   "source": [
    "\"\"\"Converts every character of first word into upper case and remaining \n",
    "        characters to lower case excluding special characters \"\"\"\n",
    "x = 'Hello world @$%%$$python' \n",
    "x.title()      \n"
   ]
  },
  {
   "cell_type": "code",
   "execution_count": 82,
   "id": "f4034168",
   "metadata": {},
   "outputs": [
    {
     "data": {
      "text/plain": [
       "'hELLO WORLD @$%%$$PYTHON'"
      ]
     },
     "execution_count": 82,
     "metadata": {},
     "output_type": "execute_result"
    }
   ],
   "source": [
    "x.swapcase() #converts all lower case characters to upper case characters and vice versa"
   ]
  },
  {
   "cell_type": "code",
   "execution_count": 86,
   "id": "dd8a93d4",
   "metadata": {},
   "outputs": [
    {
     "data": {
      "text/plain": [
       "('ä is german char', 'ä is german char')"
      ]
     },
     "execution_count": 86,
     "metadata": {},
     "output_type": "execute_result"
    }
   ],
   "source": [
    "s = 'Ä is German Char'\n",
    "s.lower(), s.casefold() #casefold works on uniquecode values whereas lower works on ASCII values"
   ]
  },
  {
   "cell_type": "code",
   "execution_count": 87,
   "id": "cb3605de",
   "metadata": {},
   "outputs": [
    {
     "data": {
      "text/plain": [
       "'Hello world @$%%$$python'"
      ]
     },
     "execution_count": 87,
     "metadata": {},
     "output_type": "execute_result"
    }
   ],
   "source": [
    "x.capitalize() #converts first letter of sting to uppercase"
   ]
  },
  {
   "cell_type": "code",
   "execution_count": 89,
   "id": "9d9dffc4",
   "metadata": {},
   "outputs": [
    {
     "data": {
      "text/plain": [
       "(False, True)"
      ]
     },
     "execution_count": 89,
     "metadata": {},
     "output_type": "execute_result"
    }
   ],
   "source": [
    "\"hello\" in x, \"Hello\" in x   #Using membership operator"
   ]
  },
  {
   "cell_type": "code",
   "execution_count": 91,
   "id": "a273d128",
   "metadata": {},
   "outputs": [
    {
     "data": {
      "text/plain": [
       "'Hello world @$%%$$pythonÄ is German Char'"
      ]
     },
     "execution_count": 91,
     "metadata": {},
     "output_type": "execute_result"
    }
   ],
   "source": [
    "x+s #adding two strings by using \"+\""
   ]
  },
  {
   "cell_type": "code",
   "execution_count": null,
   "id": "b6b23463",
   "metadata": {},
   "outputs": [],
   "source": []
  },
  {
   "cell_type": "code",
   "execution_count": null,
   "id": "1a2eeb8e",
   "metadata": {},
   "outputs": [],
   "source": []
  }
 ],
 "metadata": {
  "kernelspec": {
   "display_name": "Python 3 (ipykernel)",
   "language": "python",
   "name": "python3"
  },
  "language_info": {
   "codemirror_mode": {
    "name": "ipython",
    "version": 3
   },
   "file_extension": ".py",
   "mimetype": "text/x-python",
   "name": "python",
   "nbconvert_exporter": "python",
   "pygments_lexer": "ipython3",
   "version": "3.11.3"
  }
 },
 "nbformat": 4,
 "nbformat_minor": 5
}
