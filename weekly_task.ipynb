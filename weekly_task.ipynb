{
 "cells": [
  {
   "cell_type": "markdown",
   "id": "96779086",
   "metadata": {},
   "source": [
    "## Question -1:\n",
    "Create a function that takes a base number and an exponent number and returns the calculation.\n",
    "\n",
    "Examples:\n",
    "calculate_exponent(5, 5) ➞ 3125\n",
    "\n",
    "calculate_exponent(10, 10) ➞ 10000000000\n",
    "\n",
    "calculate_exponent(3, 3) ➞ 27"
   ]
  },
  {
   "cell_type": "code",
   "execution_count": 18,
   "id": "a8d9887c",
   "metadata": {},
   "outputs": [
    {
     "name": "stdout",
     "output_type": "stream",
     "text": [
      "3\n",
      "3\n",
      "27\n"
     ]
    }
   ],
   "source": [
    "base, exp = int(input()), int(input())\n",
    "result = base\n",
    "i = 1\n",
    "while i<exp:\n",
    "    result*=base\n",
    "    i+=1\n",
    "\n",
    "print(result)"
   ]
  },
  {
   "cell_type": "markdown",
   "id": "5df78136",
   "metadata": {},
   "source": [
    "## Question -2:\n",
    "Create a function that takes a list of numbers. Return the largest number in the list.\n",
    "\n",
    "Examples:\n",
    "\n",
    "findLargestNum([4, 5, 1, 3]) ➞ 5\n",
    "\n",
    "findLargestNum([300, 200, 600, 150]) ➞ 600\n",
    "\n",
    "findLargestNum([1000, 1001, 857, 1]) ➞ 1001"
   ]
  },
  {
   "cell_type": "code",
   "execution_count": 30,
   "id": "4a0acd42",
   "metadata": {},
   "outputs": [
    {
     "name": "stdout",
     "output_type": "stream",
     "text": [
      "Enter any four numbers\n",
      "-----------------------\n",
      "1000\n",
      "1001\n",
      "857\n",
      "1\n",
      "maximum number in [1000, 1001, 857, 1] is --> 1001\n"
     ]
    }
   ],
   "source": [
    "print(\"Enter any four numbers\")\n",
    "print(\"-----------------------\")\n",
    "x = []\n",
    "i = 0\n",
    "while i in range(0,4):\n",
    "    x.append(int(input()))\n",
    "    i+=1\n",
    "i = 0\n",
    "max_num = x[0]\n",
    "while i in range(0,4):\n",
    "    if x[i] > max_num:\n",
    "        max_num = x[i]\n",
    "    i+=1\n",
    "print(f'maximum number in {x} is --> {max_num}')"
   ]
  },
  {
   "cell_type": "markdown",
   "id": "eafcc940",
   "metadata": {},
   "source": [
    "## Question 3:\n",
    "Create a function that takes a list of numbers and returns the smallest number in the list.\n",
    "\n",
    "Examples\n",
    "\n",
    "find_smallest_num([34, 15, 88, 2]) ➞ 2\n",
    "\n",
    "find_smallest_num([34, -345, -1, 100]) ➞ -345\n",
    "\n",
    "find_smallest_num([-76, 1.345, 1, 0]) ➞ -76\n",
    "\n",
    "find_smallest_num([0.4356, 0.8795, 0.5435, -0.9999]) ➞ -0.9999\n",
    "\n",
    "find_smallest_num([7, 7, 7]) ➞ 7"
   ]
  },
  {
   "cell_type": "code",
   "execution_count": 31,
   "id": "5417a6b4",
   "metadata": {},
   "outputs": [
    {
     "name": "stdout",
     "output_type": "stream",
     "text": [
      "Enter any four numbers\n",
      "-----------------------\n",
      "34\n",
      "15\n",
      "88\n",
      "2\n",
      "maximum number in [34, 15, 88, 2] is --> 2\n"
     ]
    }
   ],
   "source": [
    "print(\"Enter any four numbers\")\n",
    "print(\"-----------------------\")\n",
    "x = []\n",
    "i = 0\n",
    "while i in range(0,4):\n",
    "    x.append(int(input()))\n",
    "    i += 1\n",
    "i = 0\n",
    "min_num = x[0]\n",
    "while i in range(0,4):\n",
    "    if x[i] < min_num:\n",
    "        min_num = x[i]\n",
    "    i += 1\n",
    "print(f'maximum number in {x} is --> {min_num}')"
   ]
  },
  {
   "cell_type": "markdown",
   "id": "42221363",
   "metadata": {},
   "source": [
    "## Question 4:\n",
    "Create a function that takes a list and returns the difference between the biggest and smallest numbers.\n",
    "\n",
    "Examples\n",
    "\n",
    "difference_max_min([10, 4, 1, 4, -10, -50, 32, 21]) ➞ 82\n",
    " Smallest number is -50, biggest is 32.\n",
    "\n",
    "difference_max_min([44, 32, 86, 19]) ➞ 67\n",
    " Smallest number is 19, biggest is 86."
   ]
  },
  {
   "cell_type": "code",
   "execution_count": 39,
   "id": "334d257e",
   "metadata": {},
   "outputs": [
    {
     "name": "stdout",
     "output_type": "stream",
     "text": [
      "Enter any four numbers\n",
      "-----------------------\n",
      "44\n",
      "32\n",
      "86\n",
      "19\n",
      "the diference is --> 67 maximum number is 86, minimum number 19\n"
     ]
    }
   ],
   "source": [
    "print(\"Enter any four numbers\")\n",
    "print(\"-----------------------\")\n",
    "x = []\n",
    "i = 0\n",
    "while i in range(0,4):\n",
    "    x.append(int(input()))\n",
    "    i += 1\n",
    "i = 0\n",
    "min_num = x[0]\n",
    "max_num = x[0]\n",
    "while i in range(0,4):\n",
    "    if x[i] < min_num:\n",
    "        min_num = x[i]\n",
    "    if x[i] > max_num:\n",
    "        max_num = x[i]\n",
    "    i += 1\n",
    "diff = max_num - min_num\n",
    "print(f'the diference is --> {diff} maximum number is {max_num}, minimum number {min_num}')"
   ]
  },
  {
   "cell_type": "markdown",
   "id": "cefb7e8d",
   "metadata": {},
   "source": [
    "## Question 5:\n",
    "Create a function that takes a list and returns the sum of all numbers in the list.\n",
    "\n",
    "Examples:\n",
    "\n",
    "get_sum_of_elements([2, 7, 4]) ➞ 13\n",
    "\n",
    "get_sum_of_elements([45, 3, 0]) ➞ 48\n",
    "\n",
    "get_sum_of_elements([-2, 84, 23]) ➞ 105"
   ]
  },
  {
   "cell_type": "code",
   "execution_count": 57,
   "id": "ef126f92",
   "metadata": {},
   "outputs": [
    {
     "name": "stdout",
     "output_type": "stream",
     "text": [
      "Enter the number:\n",
      "-------------------\n",
      "-2\n",
      "84\n",
      "23\n",
      "sum of elements [-2, 84, 23] ---> 105\n"
     ]
    }
   ],
   "source": [
    "print(\"Enter the number:\")\n",
    "print(\"-------------------\")\n",
    "i = 0\n",
    "x = []\n",
    "elements_sum = 0\n",
    "while i in range(0,3):\n",
    "    x.append(int(input()))\n",
    "    elements_sum += x[i] \n",
    "    i += 1\n",
    "print(f'sum of elements {x} ---> {elements_sum}')\n",
    "    "
   ]
  },
  {
   "cell_type": "markdown",
   "id": "c023ab6d",
   "metadata": {},
   "source": [
    "## Question 6:\n",
    "Create a function that takes a number (from 1 - 60) and returns a corresponding string of hyphens.\n",
    "\n",
    "Examples:\n",
    "\n",
    "num_to_dashes(1) ➞ \"-\"\n",
    "\n",
    "num_to_dashes(5) ➞ \"-----\"\n",
    "\n",
    "num_to_dashes(3) ➞ \"---\""
   ]
  },
  {
   "cell_type": "code",
   "execution_count": 43,
   "id": "c2ed4a71",
   "metadata": {},
   "outputs": [
    {
     "name": "stdout",
     "output_type": "stream",
     "text": [
      "Enter the num to be converted to dashes:5\n",
      "\"-----\"\n"
     ]
    }
   ],
   "source": [
    "x = int(input(\"Enter the num to be converted to dashes:\"))\n",
    "i = 0\n",
    "y = ''\n",
    "while i < x:\n",
    "    y += '-'\n",
    "    i+=1\n",
    "print(f'\"{y}\"')\n"
   ]
  },
  {
   "cell_type": "markdown",
   "id": "eb9d5f15",
   "metadata": {},
   "source": [
    "## Question 7:\n",
    "Write a function that takes an integer and returns a string with the given number of \"a\"s in Edabit.\n",
    "\n",
    "Examples:\n",
    "\n",
    "how_many_times(5) ➞ \"Edaaaaabit\"\n",
    "\n",
    "how_many_times(0) ➞ \"Edbit\"\n",
    "\n",
    "how_many_times(12) ➞ \"Edaaaaaaaaaaaabit\""
   ]
  },
  {
   "cell_type": "code",
   "execution_count": 53,
   "id": "8973e9df",
   "metadata": {},
   "outputs": [
    {
     "name": "stdout",
     "output_type": "stream",
     "text": [
      "enter the no.of 'a's :12\n",
      "the final string with 12-a is : ---->\"Edaaaaaaaaaaaaabit\"\n"
     ]
    }
   ],
   "source": [
    "x = int(input(\"enter the no.of 'a's :\"))\n",
    "string = 'Edabit'\n",
    "y = string.partition('a')\n",
    "y = list(y)\n",
    "i = 0\n",
    "while i < x:\n",
    "    y[1] += 'a'\n",
    "    i += 1\n",
    "string = y[0] + y[1] + y[2]\n",
    "print(f'the final string with {x}-a is : ---->\"{string}\"')"
   ]
  },
  {
   "cell_type": "markdown",
   "id": "379f6639",
   "metadata": {},
   "source": [
    "## Question 8:\n",
    "Create a function that returns True if all parameters are truthy, and False otherwise.\n",
    "\n",
    "Examples:\n",
    "\n",
    "all_truthy(True, True, True) ➞ True\n",
    "\n",
    "all_truthy(True, False, True) ➞ False\n",
    "\n",
    "all_truthy(5, 4, 3, 2, 1, 0) ➞ False"
   ]
  },
  {
   "cell_type": "code",
   "execution_count": 78,
   "id": "b553b4f7",
   "metadata": {},
   "outputs": [
    {
     "name": "stdout",
     "output_type": "stream",
     "text": [
      "enter a value:True\n",
      "enter a value:False\n",
      "enter a value:True\n",
      "All the parameters are ---> False\n"
     ]
    }
   ],
   "source": [
    "x = []\n",
    "i = 0\n",
    "z = True\n",
    "while i in range(0,3):\n",
    "    a = input('enter a value:')\n",
    "    if a == 'True':\n",
    "        x.append(True)\n",
    "    if a == 'False':\n",
    "        x.append(False)\n",
    "    x.append(bool(a))\n",
    "    z = z and x[i]\n",
    "    i += 1\n",
    "print(f'All the parameters are ---> {z}')\n",
    "    \n"
   ]
  },
  {
   "cell_type": "markdown",
   "id": "c379a7d5",
   "metadata": {},
   "source": [
    "## Question 9:\n",
    "Mubashir created an infinite loop! Help him by fixing the code in the code tab to pass this challenge. Look at the examples below to get an idea of what the function should do.\n",
    "\n",
    "Examples:\n",
    "\n",
    "print_list(1) ➞ [1]\n",
    "\n",
    "print_list(3) ➞ [1, 2, 3]\n",
    "\n",
    "print_list(6) ➞ [1, 2, 3, 4, 5, 6]"
   ]
  },
  {
   "cell_type": "code",
   "execution_count": 84,
   "id": "2046a223",
   "metadata": {},
   "outputs": [
    {
     "name": "stdout",
     "output_type": "stream",
     "text": [
      "Enter a number:6\n",
      "The Buggy Code ---> [1, 2, 3, 4, 5, 6]\n"
     ]
    }
   ],
   "source": [
    "x = int(input(\"Enter a number:\"))\n",
    "y = []\n",
    "i = 1\n",
    "while i <=x:\n",
    "    y.append(i)\n",
    "    i +=1\n",
    "print(f'The Buggy Code ---> {y}')"
   ]
  },
  {
   "cell_type": "markdown",
   "id": "1dd97a4c",
   "metadata": {},
   "source": [
    "## Question 10:\n",
    "Create a function that returns the last value of the last item in a list or string.\n",
    "\n",
    "Examples:\n",
    "\n",
    "last_ind([0, 4, 19, 34, 50, -9, 2]) ➞ 2\n",
    "\n",
    "last_ind(\"The quick brown fox jumped over the lazy dog\") ➞ \"g\"\n",
    "\n",
    "last_ind([]) ➞ None"
   ]
  },
  {
   "cell_type": "code",
   "execution_count": 10,
   "id": "91eb9018",
   "metadata": {},
   "outputs": [
    {
     "name": "stdout",
     "output_type": "stream",
     "text": [
      "If u want to enter integer list then use \",\" as sepeator\n",
      "enter the value:0, 4, 19, 34, 50, -9, 2\n",
      " last value of 0, 4, 19, 34, 50, -9, 2 is -----> 2\n"
     ]
    }
   ],
   "source": [
    "print('If u want to enter integer list then use \",\" as sepeator')\n",
    "last = 0\n",
    "x = input(\"enter the value:\")\n",
    "if len(x) == 0:\n",
    "    print(f' last value of {x} is -----> {None}')\n",
    "else:\n",
    "    last = x[-1]\n",
    "    print(f' last value of {x} is -----> {last}')"
   ]
  },
  {
   "cell_type": "markdown",
   "id": "ab6602e2",
   "metadata": {},
   "source": [
    "## Question 11:\n",
    "\n",
    "You can assign variables from lists like this:\n",
    "\n",
    "first, _ , last = [1, 2, 8]\n",
    "\n",
    "first   = lst[0]\n",
    "\n",
    "_   = ignores second value (2)\n",
    "\n",
    "last   = lst[-1]\n",
    "\n",
    "print(first) ➞ outputs 1\n",
    "\n",
    "print(last) ➞ outputs 8"
   ]
  },
  {
   "cell_type": "code",
   "execution_count": 14,
   "id": "b03ddca7",
   "metadata": {},
   "outputs": [
    {
     "name": "stdout",
     "output_type": "stream",
     "text": [
      "enter values:1\n",
      "enter values:2\n",
      "enter values:3\n",
      "enter values:4\n",
      "enter values:5\n",
      "enter values:6\n",
      "first ---> 1\n",
      "last ---> 6\n"
     ]
    }
   ],
   "source": [
    "x = []\n",
    "i = 0\n",
    "while i < 6:\n",
    "    x.append(int(input(\"enter values:\")))\n",
    "    i += 1\n",
    "first = x[0]\n",
    "last = x[-1]\n",
    "print(f'first ---> {first}')\n",
    "print(f'last ---> {last}')"
   ]
  },
  {
   "cell_type": "code",
   "execution_count": 15,
   "id": "0168d011",
   "metadata": {},
   "outputs": [
    {
     "name": "stdout",
     "output_type": "stream",
     "text": [
      "first ---> 1\n",
      "last ---> 8\n"
     ]
    }
   ],
   "source": [
    "## method -2 in a single line using destructing Assignment:\n",
    "first, _, last = [1, 2, 8]\n",
    "print(f'first ---> {first}')\n",
    "print(f'last ---> {last}')"
   ]
  },
  {
   "cell_type": "markdown",
   "id": "a9caa56a",
   "metadata": {},
   "source": [
    "## Question 12:\n",
    "Scientists have discovered that in four decades, the world will EXPLODE! It will also take three decades to make a spaceship to \n",
    "\n",
    "travel to a new planet that can hold the entire world population.\n",
    "\n",
    "You must calculate the number of people there will be in three decades from now.\n",
    "\n",
    "The variable P is the world population now.\n",
    "\n",
    "Assume that every month, someone gives birth to more people nP.\n",
    "\n",
    "Return the number of people there will be when the spaceship is complete.\n",
    "\n",
    "Examples:\n",
    "\n",
    "future_people(256, 2) ➞ 976\n",
    "\n",
    "future_people(3248, 6) ➞ 5408\n",
    "\n",
    "future_people(5240, 3) ➞ 6320"
   ]
  },
  {
   "cell_type": "code",
   "execution_count": 14,
   "id": "b7dfc6ae",
   "metadata": {},
   "outputs": [
    {
     "name": "stdout",
     "output_type": "stream",
     "text": [
      "Enter current population:256\n",
      "Enter birth rate :2\n",
      "Future_people(256 , 2) ---> 976\n"
     ]
    }
   ],
   "source": [
    "population = int(input(\"Enter current population:\"))\n",
    "birth_rate = int(input(\"Enter birth rate :\"))\n",
    "#It is given that it takes 3 decades to build the spaceship\n",
    "months = 12*30\n",
    "new_population = 2*months\n",
    "future_people = population + new_population\n",
    "print(f'Future_people({population} , {birth_rate}) ---> {future_people}')"
   ]
  },
  {
   "cell_type": "markdown",
   "id": "9fbf3bf2",
   "metadata": {},
   "source": [
    "## Question 13:\n",
    "Create a function that returns a number, based on the string provided. Here is a list of all digits:\n",
    "\n",
    "String\tNumber\n",
    "\n",
    "\"one\"\t1\n",
    "\n",
    "\"two\"\t2\n",
    "\n",
    "\"three\"\t3\n",
    "\n",
    "\"four\"\t4\n",
    "\n",
    "\"five\"\t5\n",
    "\n",
    "\"six\"\t6\n",
    "\n",
    "\"seven\"\t7\n",
    "\n",
    "\"eight\"\t8\n",
    "\n",
    "\"nine\"\t9\n",
    "\n",
    "\"zero\"\t0\n",
    "\n",
    "Examples:\n",
    "\n",
    "word(\"one\") ➞ 1\n",
    "\n",
    "word(\"two\") ➞ 2\n",
    "\n",
    "word(\"nine\") ➞ 9"
   ]
  },
  {
   "cell_type": "code",
   "execution_count": 20,
   "id": "ab17a36b",
   "metadata": {},
   "outputs": [
    {
     "name": "stdout",
     "output_type": "stream",
     "text": [
      "enter the word(from 0-9 only):two\n",
      "word(\"two\") ---> 2\n"
     ]
    }
   ],
   "source": [
    "word_dict = {'one' : 1,\n",
    "             'two' : 2,\n",
    "             'three' : 3,\n",
    "             'four' : 4,\n",
    "             'five' : 5,\n",
    "             'six' : 6,\n",
    "             'seven' : 7,\n",
    "             'eight' : 8,\n",
    "             'nine' : 9,\n",
    "             'zero' : 0}\n",
    "x = input(\"enter the word(from 0-9 only):\").lower()\n",
    "print(f'word(\"{x}\") ---> {word_dict[x]}')"
   ]
  },
  {
   "cell_type": "markdown",
   "id": "da0addf7",
   "metadata": {},
   "source": [
    "## Question 14\n",
    "Create a function that takes two strings as arguments and returns the number of times the first string (the single character) is \n",
    "found in the second string.\n",
    "\n",
    "Examples:\n",
    "\n",
    "char_count(\"a\", \"edabit\") ➞ 1\n",
    "\n",
    "char_count(\"c\", \"Chamber of secrets\") ➞ 1\n",
    "\n",
    "char_count(\"b\", \"big fat bubble\") ➞ 4"
   ]
  },
  {
   "cell_type": "code",
   "execution_count": 25,
   "id": "d6496129",
   "metadata": {},
   "outputs": [
    {
     "name": "stdout",
     "output_type": "stream",
     "text": [
      "enter the String:big fat bubble\n",
      "enter Character:b\n",
      "(\"b\",\"big fat bubble\") ----> 4\n"
     ]
    }
   ],
   "source": [
    "x = input(\"enter the String:\")\n",
    "y = input('enter Character:')     \n",
    "count = x.count(y)             #Here we are using built-in function count to find the repetition of the character\n",
    "print(f'(\"{y}\",\"{x}\") ----> {count}')"
   ]
  },
  {
   "cell_type": "code",
   "execution_count": 26,
   "id": "697f3a5c",
   "metadata": {},
   "outputs": [
    {
     "name": "stdout",
     "output_type": "stream",
     "text": [
      "(\"b\",\"big fat bubble\") ----> 4\n"
     ]
    }
   ],
   "source": [
    "## method:2\n",
    "i=0\n",
    "count = 0\n",
    "while(i<len(x)):\n",
    "    if x[i] == y:\n",
    "        count+=1\n",
    "    i+=1\n",
    "print(f'(\"{y}\",\"{x}\") ----> {count}')"
   ]
  },
  {
   "cell_type": "markdown",
   "id": "daf16654",
   "metadata": {},
   "source": [
    "## Question 15:\n",
    "\n",
    "Create a function that takes a list and a string as arguments and returns the index of the string.\n",
    "\n",
    "Examples:\n",
    "\n",
    "find_index([\"hi\", \"edabit\", \"fgh\", \"abc\"], \"fgh\") ➞ 2\n",
    "\n",
    "find_index([\"Red\", \"blue\", \"Blue\", \"Green\"], \"blue\") ➞ 1\n",
    "\n",
    "find_index([\"a\", \"g\", \"y\", \"d\"], \"d\") ➞ 3\n",
    "\n",
    "find_index([\"Pineapple\", \"Orange\", \"Grape\", \"Apple\"], \"Pineapple\") ➞ 0"
   ]
  },
  {
   "cell_type": "code",
   "execution_count": 29,
   "id": "76806807",
   "metadata": {},
   "outputs": [
    {
     "name": "stdout",
     "output_type": "stream",
     "text": [
      "Enter the values:Pineapple\n",
      "Enter the values:Orange\n",
      "Enter the values:Grape\n",
      "Enter the values:Apple\n",
      "enter string to find index:Pineapple\n",
      "index of \"Pineapple\" in ['Pineapple', 'Orange', 'Grape', 'Apple'] ----> 0\n"
     ]
    }
   ],
   "source": [
    "x = []\n",
    "i = 0\n",
    "while i < 4:\n",
    "    y = input(\"Enter the values:\")\n",
    "    x.append(y)\n",
    "    i+=1\n",
    "z = input(\"enter string to find index:\")\n",
    "i = 0\n",
    "while i<len(x):\n",
    "    if x[i] == z:\n",
    "        index = i\n",
    "    i+=1\n",
    "print(f'index of \"{z}\" in {x} ----> {index}')"
   ]
  },
  {
   "cell_type": "markdown",
   "id": "da12cb9c",
   "metadata": {},
   "source": [
    "## Question 16:\n",
    "Create a function which returns the length of a string, without using len().\n",
    "\n",
    "Examples:\n",
    "\n",
    "length(\"Hello World\") ➞ 11\n",
    "\n",
    "length(\"Edabit\") ➞ 6\n",
    "\n",
    "length(\"wash your hands!\") ➞ 16"
   ]
  },
  {
   "cell_type": "code",
   "execution_count": 31,
   "id": "44452d56",
   "metadata": {},
   "outputs": [
    {
     "name": "stdout",
     "output_type": "stream",
     "text": [
      "enter the string:Hello World\n",
      "Length(Hello World) ----> 11\n"
     ]
    }
   ],
   "source": [
    "x = input(\"enter the string:\")\n",
    "i = 0\n",
    "length = 0\n",
    "while i<len(x):\n",
    "    length+=1\n",
    "    i+=1\n",
    "print(f'Length({x}) ----> {length}')\n",
    "    "
   ]
  },
  {
   "cell_type": "markdown",
   "id": "dda5bc0f",
   "metadata": {},
   "source": [
    "## Question 17:\n",
    "Create a function that takes a 2D list lst and returns the sum of the minimum value in each row.\n",
    "\n",
    "Examples:\n",
    "\n",
    "sum_minimums([[1, 2, 3, 4, 5], [5, 6, 7, 8, 9], [20, 21, 34, 56, 100]]) ➞ 26\n"
   ]
  },
  {
   "cell_type": "code",
   "execution_count": 39,
   "id": "a378508c",
   "metadata": {},
   "outputs": [
    {
     "name": "stdout",
     "output_type": "stream",
     "text": [
      "enter value in list0, index(0):1\n",
      "enter value in list0, index(1):2\n",
      "enter value in list0, index(2):3\n",
      "enter value in list0, index(3):4\n",
      "enter value in list0, index(4):5\n",
      "enter value in list1, index(0):5\n",
      "enter value in list1, index(1):6\n",
      "enter value in list1, index(2):7\n",
      "enter value in list1, index(3):8\n",
      "enter value in list1, index(4):9\n",
      "enter value in list2, index(0):20\n",
      "enter value in list2, index(1):21\n",
      "enter value in list2, index(2):34\n",
      "enter value in list2, index(3):56\n",
      "enter value in list2, index(4):100\n",
      "sum_minimums:(([1, 2, 3, 4, 5], [5, 6, 7, 8, 9], [20, 21, 34, 56, 100])) ----> 26\n"
     ]
    }
   ],
   "source": [
    "list_0, list_1, list_2 = [], [], []\n",
    "i = 0\n",
    "while i<3:\n",
    "    j = 0\n",
    "    while j<5:\n",
    "        x = int(input(f'enter value in list{i}, index({j}):'))\n",
    "        if i == 0:\n",
    "            list_0.append(x)\n",
    "        if i == 1:\n",
    "            list_1.append(x)\n",
    "        if i == 2:\n",
    "            list_2.append(x)\n",
    "        j+=1\n",
    "    i+=1\n",
    "sum_of_mins = min(list_0)+min(list_1)+min(list_2)\n",
    "print(f'sum_minimums:({list_0, list_1, list_2}) ----> {sum_of_mins}')\n"
   ]
  },
  {
   "cell_type": "markdown",
   "id": "5e97e28b",
   "metadata": {},
   "source": [
    "## Question 18:\n",
    "Given a letter and a list of words, return whether the letter does not appear in any of the words.\n",
    "\n",
    "Examples:\n",
    "\n",
    "forbidden_letter(\"r\", [\"rock\", \"paper\", \"scissors\"]) ➞ False\n",
    "\n",
    "forbidden_letter(\"a\", [\"spoon\", \"fork\", \"knife\"]) ➞ True\n",
    "\n",
    "forbidden_letter(\"m\", []) ➞ True"
   ]
  },
  {
   "cell_type": "code",
   "execution_count": 49,
   "id": "a3f3d2a7",
   "metadata": {},
   "outputs": [
    {
     "name": "stdout",
     "output_type": "stream",
     "text": [
      "enter the string - 0:rock\n",
      "enter the string - 1:paper\n",
      "enter the string - 2:scissors\n",
      "Enter a character to check if it is forbidden_letter:r\n",
      "forbidden_letter(r,['rock', 'paper', 'scissors'])-----> False\n"
     ]
    }
   ],
   "source": [
    "x = []\n",
    "i = 0\n",
    "while i<3:\n",
    "    z = input(f'enter the string - {i}:')\n",
    "    x.append(z)\n",
    "    i+=1\n",
    "y = input(\"Enter a character to check if it is forbidden_letter:\")\n",
    "i = 0\n",
    "b = True\n",
    "while i<3:\n",
    "    if y in x[i]:\n",
    "        b = b and False\n",
    "    else:\n",
    "        b = True\n",
    "    i+=1\n",
    "print(f'forbidden_letter({y},{x})-----> {b}')"
   ]
  },
  {
   "cell_type": "markdown",
   "id": "6c7b49c5",
   "metadata": {},
   "source": [
    "## Question 19:\n",
    "Create a function that finds each factor of a given number n. Your solution should return a list of the number(s) that meet this criteria.\n",
    "\n",
    "Examples:\n",
    "\n",
    "find_factors(9) ➞ [1, 3, 9]\n",
    "\n",
    "* 9 has three factors 1, 3 and 9\n",
    "\n",
    "find_factors(12) ➞ [1, 2, 3, 4, 6, 12]\n",
    "\n",
    "find_factors(20) ➞ [1, 2, 4, 5, 10, 20]\n",
    "\n",
    "find_factors(0) ➞ []\n",
    "\n",
    "* 0 has no factors"
   ]
  },
  {
   "cell_type": "code",
   "execution_count": 67,
   "id": "25bb8dee",
   "metadata": {},
   "outputs": [
    {
     "name": "stdout",
     "output_type": "stream",
     "text": [
      "enter a number:10\n",
      "factors(10) ---->[1, 2, 5]\n"
     ]
    }
   ],
   "source": [
    "x = int(input(\"enter a number:\"))\n",
    "y = []\n",
    "i = 1\n",
    "while i<x:\n",
    "    if x%i == 0:\n",
    "        y.append(i)\n",
    "    i+=1\n",
    "print(f'factors({x}) ---->{y}')"
   ]
  },
  {
   "cell_type": "markdown",
   "id": "97adbefd",
   "metadata": {},
   "source": [
    "## Question 20\n",
    "\n",
    "Given a string, create a function to reverse the case. All lower-cased letters should be upper-cased, and vice versa.\n",
    "\n",
    "Examples\n",
    "\n",
    "reverse_case(\"Happy Birthday\") ➞ \"hAPPY bIRTHDAY\"\n",
    "\n",
    "reverse_case(\"MANY THANKS\") ➞ \"many thanks\"\n",
    "\n",
    "reverse_case(\"sPoNtAnEoUs\") ➞ \"SpOnTaNeOuS\""
   ]
  },
  {
   "cell_type": "code",
   "execution_count": 92,
   "id": "d93e9e79",
   "metadata": {},
   "outputs": [
    {
     "name": "stdout",
     "output_type": "stream",
     "text": [
      "Enter string:Happy Birthday\n",
      "reverse_case(\"Happy Birthday\") ----> \"hAPPY bIRTHDAY\"\n"
     ]
    }
   ],
   "source": [
    "x = input(\"Enter string:\")\n",
    "y = list(x)\n",
    "i = 0\n",
    "while i<len(x):\n",
    "    if ord(x[i]) >=65 and ord(x[i]) <= 90:\n",
    "        y[i] = chr(ord(x[i])+32)\n",
    "    if ord(x[i]) >=97 and ord(x[i]) <= 122:\n",
    "        y[i] = chr(ord(x[i])-32)\n",
    "    i+=1\n",
    "z = \"\".join(y)\n",
    "print(f'reverse_case(\"{x}\") ----> \"{z}\"')"
   ]
  },
  {
   "cell_type": "markdown",
   "id": "8e7e3209",
   "metadata": {},
   "source": [
    "## Question 21:\n",
    "Create a function that returns the number of hashes and pluses in a string.\n",
    "\n",
    "Examples\n",
    "\n",
    "hash_plus_count(\"###+\") ➞ [3, 1]\n",
    "\n",
    "hash_plus_count(\"##+++#\") ➞ [3, 3]\n",
    "\n",
    "hash_plus_count(\"#+++#+#++#\") ➞ [4, 6]\n",
    "\n",
    "hash_plus_count(\"\") ➞ [0, 0]"
   ]
  },
  {
   "cell_type": "code",
   "execution_count": 3,
   "id": "441feaef",
   "metadata": {},
   "outputs": [
    {
     "name": "stdout",
     "output_type": "stream",
     "text": [
      "enter only hashes and pluses:#+++#+#++#\n",
      "hash_plus_count(\"#+++#+#++#\") ----> (4, 6)\n"
     ]
    }
   ],
   "source": [
    "x = input(\"enter only hashes and pluses:\")\n",
    "i=0\n",
    "hash_count, plus_count = 0,0\n",
    "while(i<len(x)):\n",
    "    if x[i] == '#':\n",
    "        hash_count+=1\n",
    "    if x[i] == '+':\n",
    "        plus_count+=1\n",
    "    i+=1\n",
    "print(f'hash_plus_count(\"{x}\") ----> {hash_count, plus_count}')"
   ]
  },
  {
   "cell_type": "markdown",
   "id": "5fc3f3d7",
   "metadata": {},
   "source": [
    "## Question 22:\n",
    "Given a one word lowercase string txt, return another string such that even-indexed and odd-indexed characters are grouped and groups are space-separated.\n",
    "\n",
    "Examples\n",
    "\n",
    "even_odd_string(\"mubashir\") ➞ \"mbsi uahr\"\n",
    "* Letters at even indexes = \"mbsi\"\n",
    "* Letters at odd indexes = \"uahr\"\n",
    "* Join both strings with a space\n",
    "\n",
    "even_odd_string(\"edabit\") ➞ \"eai dbt\"\n",
    "\n",
    "even_odd_string(\"airforce\") ➞ \"aroc ifre\""
   ]
  },
  {
   "cell_type": "code",
   "execution_count": 8,
   "id": "e0788013",
   "metadata": {},
   "outputs": [
    {
     "name": "stdout",
     "output_type": "stream",
     "text": [
      "Enter the string:airforce\n",
      "even_odd_string(\"airforce\")---->\"aroc ifre\"\n"
     ]
    }
   ],
   "source": [
    "y = input(\"Enter the string:\")\n",
    "even_pos, odd_pos = y[0::2], y[1::2]\n",
    "print(f'even_odd_string(\"{y}\")---->\"{even_pos} {odd_pos}\"')\n"
   ]
  },
  {
   "cell_type": "markdown",
   "id": "93a11c2a",
   "metadata": {},
   "source": [
    "## Question 23:\n",
    "Create a function which returns the total of all odd numbers up to and including n. n will be given as an odd number.\n",
    "\n",
    "Examples\n",
    "\n",
    "add_odd_to_n(5) ➞ 9\n",
    "* 1 + 3 + 5 = 9\n",
    "\n",
    "add_odd_to_n(13) ➞ 49\n",
    "\n",
    "add_odd_to_n(47) ➞ 576"
   ]
  },
  {
   "cell_type": "code",
   "execution_count": 11,
   "id": "7f8c78dc",
   "metadata": {},
   "outputs": [
    {
     "name": "stdout",
     "output_type": "stream",
     "text": [
      "enter a number:47\n",
      "add_odd_to_n(47) ---> 576\n"
     ]
    }
   ],
   "source": [
    "n = int(input(\"enter a number:\"))\n",
    "i = 0\n",
    "odd_sum = 0\n",
    "while i <= n:\n",
    "    if i%2 != 0:\n",
    "        odd_sum += i\n",
    "    i+=1\n",
    "print(f'add_odd_to_n({n}) ---> {odd_sum}')"
   ]
  },
  {
   "cell_type": "markdown",
   "id": "129ab650",
   "metadata": {},
   "source": [
    "## Question 24:\n",
    "Create a function that takes a number n and returns the sum of all square numbers up to and including n.\n",
    "\n",
    "squares_sum(3) ➞ 14\n",
    " \n",
    " 1² + 2² + 3² =\n",
    " \n",
    " 1 + 4 + 9 =\n",
    " \n",
    " 14\n",
    "Examples:\n",
    "\n",
    "squares_sum(3) ➞ 14\n",
    "\n",
    "squares_sum(12) ➞ 650\n",
    "\n",
    "squares_sum(13) ➞ 819"
   ]
  },
  {
   "cell_type": "code",
   "execution_count": 13,
   "id": "064e3b1a",
   "metadata": {},
   "outputs": [
    {
     "name": "stdout",
     "output_type": "stream",
     "text": [
      "enter the number:13\n",
      "squares_sum(13) ---> 819\n"
     ]
    }
   ],
   "source": [
    "x = int(input(\"enter the number:\"))\n",
    "sqr_sum = 0\n",
    "i = 1\n",
    "while i<= x:\n",
    "    sqr_sum += i**2\n",
    "    i += 1\n",
    "print(f'squares_sum({x}) ---> {sqr_sum}')"
   ]
  },
  {
   "cell_type": "markdown",
   "id": "c3c40984",
   "metadata": {},
   "source": [
    "## Question 25:\n",
    "Given a list of numbers, negate all elements contained within.\n",
    "\n",
    "Negating a positive value -+n will return -n, because all +'s are removed.\n",
    "\n",
    "Negating a negative value --n will return n, because the first - turns the second minus into a +.\n",
    "\n",
    "Examples\n",
    "\n",
    "negate([1, 2, 3, 4]) ➞ [-1, -2, -3, -4]\n",
    "\n",
    "negate([-1, 2, -3, 4]) ➞ [1, -2, 3, -4]\n",
    "\n",
    "negate([]) ➞ []"
   ]
  },
  {
   "cell_type": "code",
   "execution_count": 22,
   "id": "47d504ae",
   "metadata": {},
   "outputs": [
    {
     "name": "stdout",
     "output_type": "stream",
     "text": [
      "enter the number 0:-1\n",
      "enter the number 1:2\n",
      "enter the number 2:-3\n",
      "enter the number 3:4\n",
      "negate([-1, 2, -3, 4]) ----> [1, -2, 3, -4]\n"
     ]
    }
   ],
   "source": [
    "x, z = [], []\n",
    "i = 0\n",
    "while i<4:\n",
    "    y = int(input(f'enter the number {i}:'))\n",
    "    x.append(y)\n",
    "    z.append(-(y))\n",
    "    i += 1\n",
    "print(f'negate({x}) ----> {z}')\n",
    "    "
   ]
  },
  {
   "cell_type": "markdown",
   "id": "7515b00b",
   "metadata": {},
   "source": [
    "## Question 26:\n",
    "\n",
    "Write a function that takes the last number of a consecutive list of numbers and returns the total of all numbers up to and including it.\n",
    "\n",
    "Examples:\n",
    "\n",
    "add_up_to(3) ➞ 6\n",
    " 1 + 2 + 3 = 6\n",
    "\n",
    "add_up_to(10) ➞ 55\n",
    " 1 + 2 + 3 + ... + 10 = 55\n",
    "\n",
    "add_up_to(7) ➞ 28\n",
    " 1 + 2 + 3 + ... + 7 = 28"
   ]
  },
  {
   "cell_type": "code",
   "execution_count": 2,
   "id": "ddf4ad5a",
   "metadata": {},
   "outputs": [
    {
     "name": "stdout",
     "output_type": "stream",
     "text": [
      "enter a number:10\n",
      "add_upto(10) ----> 55\n"
     ]
    }
   ],
   "source": [
    "sum_ele = 0\n",
    "x = int(input('enter a number:'))\n",
    "for i in range(1,x+1):\n",
    "    sum_ele += i\n",
    "print(f'add_upto({x}) ----> {sum_ele}')\n",
    "    "
   ]
  },
  {
   "cell_type": "markdown",
   "id": "4b32eeb3",
   "metadata": {},
   "source": [
    "## Question 27:\n",
    "Create a function that takes two parameters (start, stop), and returns the sum of all even numbers in the range.\n",
    "\n",
    "Examples:\n",
    "\n",
    "sum_even_nums_in_range(10, 20) ➞ 90\n",
    " \n",
    " 10, 12, 14, 16, 18, 20\n",
    "\n",
    "sum_even_nums_in_range(51, 150) ➞ 5050\n",
    "\n",
    "sum_even_nums_in_range(63, 97) ➞ 1360"
   ]
  },
  {
   "cell_type": "code",
   "execution_count": 6,
   "id": "4b96f2f1",
   "metadata": {},
   "outputs": [
    {
     "name": "stdout",
     "output_type": "stream",
     "text": [
      "enter the starting number:63\n",
      "enter the starting number:97\n",
      "sum_even_nums_in_range(63, 97)----> 1360\n"
     ]
    }
   ],
   "source": [
    "x, y = int(input(\"enter the starting number:\")), int(input(\"enter the starting number:\"))\n",
    "sum_even = 0\n",
    "for i in range(x,y+1) :\n",
    "    if i%2 == 0:\n",
    "        sum_even += i\n",
    "print(f'sum_even_nums_in_range({x}, {y})----> {sum_even}')\n",
    "    \n",
    "    "
   ]
  },
  {
   "cell_type": "markdown",
   "id": "70c28337",
   "metadata": {},
   "source": [
    "## Question 28:\n",
    "A palindrome is a word that is identical forward and backwards.\n",
    "\n",
    "mom\n",
    "\n",
    "racecar\n",
    "\n",
    "kayak\n",
    "\n",
    "Given a word, create a function that checks whether it is a palindrome.\n",
    "\n",
    "Examples\n",
    "\n",
    "is_palindrome(\"mom\") ➞ True\n",
    "\n",
    "is_palindrome(\"scary\") ➞ False\n",
    "\n",
    "is_palindrome(\"reviver\") ➞ True\n",
    "\n",
    "is_palindrome(\"stressed\") ➞ False"
   ]
  },
  {
   "cell_type": "code",
   "execution_count": 1,
   "id": "b30d5271",
   "metadata": {},
   "outputs": [
    {
     "name": "stdout",
     "output_type": "stream",
     "text": [
      "Enter a string:reviver\n",
      "is_palindrome(\"reviver\") ---> True\n"
     ]
    }
   ],
   "source": [
    "x = input(\"Enter a string:\")\n",
    "y = x[::-1]\n",
    "if x == y :\n",
    "    b = True\n",
    "else:\n",
    "    b = False\n",
    "print(f'is_palindrome(\"{x}\") ---> {b}')\n",
    "    "
   ]
  },
  {
   "cell_type": "markdown",
   "id": "47f8f5af",
   "metadata": {},
   "source": [
    "## Question 29:\n",
    "Implement a function that returns a list containing all the consecutive numbers in ascendant order from the given value low up \n",
    "\n",
    "to the given value high (bounds included).\n",
    "\n",
    "Examples:\n",
    "\n",
    "get_sequence(1, 5) ➞ [1, 2, 3, 4, 5]\n",
    "\n",
    "get_sequence(98, 100) ➞ [98, 99, 100]\n",
    "\n",
    "get_sequence(1000, 1000) ➞ [1000]"
   ]
  },
  {
   "cell_type": "code",
   "execution_count": 2,
   "id": "2d4853d6",
   "metadata": {},
   "outputs": [
    {
     "name": "stdout",
     "output_type": "stream",
     "text": [
      "Enter starting number:1\n",
      "Enter ending number:5\n",
      "(1, 5) -----> [1, 2, 3, 4, 5]\n"
     ]
    }
   ],
   "source": [
    "x,y = int(input(\"Enter starting number:\")), int(input(\"Enter ending number:\"))\n",
    "z = list(range(x,y+1))\n",
    "print(f'({x}, {y}) -----> {z}')"
   ]
  },
  {
   "cell_type": "markdown",
   "id": "654220e9",
   "metadata": {},
   "source": [
    "## Question 30:\n",
    "Create a function that finds the index of a given item.\n",
    "\n",
    "Examples:\n",
    "\n",
    "search([1, 5, 3], 5) ➞ 1\n",
    "\n",
    "search([9, 8, 3], 3) ➞ 2\n",
    "\n",
    "search([1, 2, 3], 4) ➞ -1"
   ]
  },
  {
   "cell_type": "code",
   "execution_count": 8,
   "id": "3154823b",
   "metadata": {},
   "outputs": [
    {
     "name": "stdout",
     "output_type": "stream",
     "text": [
      "enter numbers seperated by ' ,' :1,5,3\n",
      "enter number to find its index in the list:5\n",
      "search(['1', '5', '3'], 5) ---> 1\n"
     ]
    }
   ],
   "source": [
    "x = input(\"enter numbers seperated by ' ,' :\")\n",
    "y = input(\"enter number to find its index in the list:\")\n",
    "z = x.split(',')\n",
    "index = z.index(y)\n",
    "print(f'search({z}, {y}) ---> {index}')\n",
    "        "
   ]
  },
  {
   "cell_type": "markdown",
   "id": "85698d58",
   "metadata": {},
   "source": [
    "## Question 31:\n",
    "Given a string of letters, how many capital letters are there?\n",
    "\n",
    "Examples:\n",
    "\n",
    "capital_letters(\"fvLzpxmgXSDrobbgMVrc\") ➞ 6\n",
    "\n",
    "capital_letters(\"JMZWCneOTFLWYwBWxyFw\") ➞ 14\n",
    "\n",
    "capital_letters(\"mqeytbbjwqemcdrdsyvq\") ➞ 0"
   ]
  },
  {
   "cell_type": "code",
   "execution_count": 9,
   "id": "9652c2b8",
   "metadata": {},
   "outputs": [
    {
     "name": "stdout",
     "output_type": "stream",
     "text": [
      "enter a string:fvLzpxmgXSDrobbgMVrc\n",
      "capital_letter(\"fvLzpxmgXSDrobbgMVrc\") -----> 6\n"
     ]
    }
   ],
   "source": [
    "x = input(\"enter a string:\")\n",
    "count = 0\n",
    "for i in x:\n",
    "    if i.isupper():\n",
    "        count+=1\n",
    "print(f'capital_letter(\"{x}\") -----> {count}')"
   ]
  },
  {
   "cell_type": "markdown",
   "id": "30a7f4c6",
   "metadata": {},
   "source": [
    "## Question 32:\n",
    "Create a function that takes a number num and returns the first 10 multiples of num with 1 added to it, separated by commas.\n",
    "\n",
    "Examples:\n",
    "\n",
    "n_tables_plus_one(7) ➞ \"8,15,22,29,36,43,50,57,64,71\"\n",
    "\n",
    "n_tables_plus_one(1) ➞ \"2,3,4,5,6,7,8,9,10,11\"\n",
    "\n",
    "n_tables_plus_one(3) ➞ \"4,7,10,13,16,19,22,25,28,31\""
   ]
  },
  {
   "cell_type": "code",
   "execution_count": 16,
   "id": "f0a0d2ad",
   "metadata": {},
   "outputs": [
    {
     "name": "stdout",
     "output_type": "stream",
     "text": [
      "enter a number:7\n",
      "n_tables_plus_one(7) ----> \"8,15,22,29,36,43,50,57,64,71\"\n"
     ]
    }
   ],
   "source": [
    "x = int(input(\"enter a number:\"))\n",
    "y = []\n",
    "for i in range(1,11):\n",
    "    z = x*i\n",
    "    y.append(str(z+1))\n",
    "y = \",\".join(y)\n",
    "print(f'n_tables_plus_one({x}) ----> \"{y}\"')"
   ]
  },
  {
   "cell_type": "markdown",
   "id": "06703c7e",
   "metadata": {},
   "source": [
    "## Question 33:\n",
    "This is a reverse coding challenge. Normally you're given explicit directions with how to create a function. Here, you must generate your own function to satisfy the relationship between the inputs and outputs.\n",
    "\n",
    "Your task is to create a function that, when fed the inputs below, produces the sample outputs shown.\n",
    "\n",
    "Examples:\n",
    "\n",
    "[5, 7, 8, 2, 1], 2 ➞ [1, 1, 0, 0, 1]\n",
    "\n",
    "[9, 8, 16, 47], 4 ➞ [1, 0, 0, 3]\n",
    "\n",
    "[17, 11, 99, 55, 23, 1], 5 ➞ [2, 1, 4, 0, 3, 1]\n",
    "\n",
    "[6, 1], 7 ➞ [6, 1]\n",
    "\n",
    "[3, 2, 9], 3 ➞ [0, 2, 0]\n",
    "\n",
    "[48, 22, 0, 19, 33, 100], 10 ➞ [8, 2, 0, 9, 3, 0]"
   ]
  },
  {
   "cell_type": "code",
   "execution_count": 17,
   "id": "b9e50a8b",
   "metadata": {},
   "outputs": [
    {
     "name": "stdout",
     "output_type": "stream",
     "text": [
      "enter the numbers:5\n",
      "enter the numbers:7\n",
      "enter the numbers:8\n",
      "enter the numbers:2\n",
      "enter the numbers:1\n",
      "enter key value:2\n",
      "[5, 7, 8, 2, 1], 2--->[1, 1, 0, 0, 1]\n"
     ]
    }
   ],
   "source": [
    "x,y = [], []\n",
    "for i in range(1,6):\n",
    "    x.append(int(input(\"enter the numbers:\")))\n",
    "k = int(input(\"enter key value:\"))\n",
    "for i in x:\n",
    "    y.append(i%k)\n",
    "print(f'{x}, {k}--->{y}')"
   ]
  },
  {
   "cell_type": "markdown",
   "id": "8aed23c9",
   "metadata": {},
   "source": [
    "## Question 34:\n",
    "The insurance guy calls again. Apparently, they were informed by your spouse that some items were not stolen at all and you failed to mention this detail to them. This is a fraud attempt! You freeze and mumble something unintelligible. Find out what you said.\n",
    "\n",
    "Given a dictionary, return a string that concatenates all the values and adds the 2nd key at the end. Make sure you keep an empty space between them but not at the beginning or end of the string. Look at the examples for a clearer picture.\n",
    "\n",
    "Examples:\n",
    "\n",
    "{ 1: \"Mommy\", 2: \"please\", 3: \"help\" } ➞ \"Mommy please help please\"\n",
    "\n",
    "{ 1: \"Me\", 2: \"innocent\", 3: \"is\" } ➞ \"Me innocent is innocent\"\n",
    "\n",
    "{ 1: \"Must\", 2: \"lawyer\", 3: \"call\" } ➞ \"Must lawyer call lawyer\""
   ]
  },
  {
   "cell_type": "code",
   "execution_count": 21,
   "id": "4263673b",
   "metadata": {},
   "outputs": [
    {
     "name": "stdout",
     "output_type": "stream",
     "text": [
      "\"Mommy please help please\"\n"
     ]
    }
   ],
   "source": [
    "dict1 = {1: \"Mommy\", 2: \"please\", 3:\"help\"}\n",
    "print(f'\"{dict1[1]} {dict1[2]} {dict1[3]} {dict1[2]}\"')"
   ]
  },
  {
   "cell_type": "code",
   "execution_count": 8,
   "id": "2eba5f63",
   "metadata": {},
   "outputs": [
    {
     "name": "stdout",
     "output_type": "stream",
     "text": [
      "enter string value for 0 :Mommy\n",
      "enter string value for 1 :please\n",
      "enter string value for 2 :help\n",
      "\" Mommy please help please\"\n"
     ]
    }
   ],
   "source": [
    "#method 2\n",
    "dict1 = dict()\n",
    "z = ''\n",
    "for i in range(0,3):\n",
    "    dict1[i] = input(f'enter string value for {i} :')\n",
    "for i in range(0,3):\n",
    "    z+=(\" \"+dict1[i])\n",
    "    if i == 2:\n",
    "        z+=(\" \"+dict1[i-1])\n",
    "print(f'\"{z}\"')\n"
   ]
  },
  {
   "cell_type": "markdown",
   "id": "bd1d49ae",
   "metadata": {},
   "source": [
    "## Question 35:\n",
    "Create a function that adds a string ending to each member in a list.\n",
    "\n",
    "Examples:\n",
    "\n",
    "add_ending([\"clever\", \"meek\", \"hurried\", \"nice\"], \"ly\")\n",
    "➞ [\"cleverly\", \"meekly\", \"hurriedly\", \"nicely\"]\n",
    "\n",
    "add_ending([\"new\", \"pander\", \"scoop\"], \"er\")\n",
    "➞ [\"newer\", \"panderer\", \"scooper\"]\n",
    "\n",
    "add_ending([\"bend\", \"sharpen\", \"mean\"], \"ing\")\n",
    "➞ [\"bending\", \"sharpening\", \"meaning\"]"
   ]
  },
  {
   "cell_type": "code",
   "execution_count": 21,
   "id": "126430a7",
   "metadata": {},
   "outputs": [
    {
     "name": "stdout",
     "output_type": "stream",
     "text": [
      "\"cleverly\" \"meekly\" \"hurriedly\" \"nicely\" "
     ]
    }
   ],
   "source": [
    "x = ['clever', 'meek', 'hurried', 'nice']\n",
    "for i in x:\n",
    "    print(f'\"{i+\"ly\"}\"', end = ' ')\n"
   ]
  },
  {
   "cell_type": "markdown",
   "id": "1371f21c",
   "metadata": {},
   "source": [
    "## Question 36:\n",
    "Create a function that takes a list of numbers and returns the sum of its cubes.\n",
    "\n",
    "Examples:\n",
    "\n",
    "sum_of_cubes([1, 5, 9]) ➞ 855\n",
    "\n",
    "Since 1^3 + 5^3 + 9^3 = 1 + 125 + 729 = 855\n",
    "\n",
    "sum_of_cubes([3, 4, 5]) ➞ 216\n",
    "\n",
    "sum_of_cubes([2]) ➞ 8\n",
    "\n",
    "sum_of_cubes([]) ➞ 0"
   ]
  },
  {
   "cell_type": "code",
   "execution_count": 23,
   "id": "cf877c52",
   "metadata": {},
   "outputs": [
    {
     "name": "stdout",
     "output_type": "stream",
     "text": [
      "sum of cubes[1, 5, 9] --> 855\n"
     ]
    }
   ],
   "source": [
    "x = [1, 5, 9]\n",
    "cubes_sum = 0\n",
    "for i in x:\n",
    "    cubes_sum+=i**3\n",
    "print(f'sum of cubes{x} --> {cubes_sum}')"
   ]
  },
  {
   "cell_type": "markdown",
   "id": "f7fe9a9c",
   "metadata": {},
   "source": [
    "## Question 37:\n",
    "Create a function that returns the minimum number of elements removed to make the sum of all elements in a list even.\n",
    "\n",
    "Examples:\n",
    "\n",
    "minimum_removals([1, 2, 3, 4, 5]) ➞ 1\n",
    "\n",
    "minimum_removals([5, 7, 9, 11]) ➞ 0\n",
    "\n",
    "minimum_removals([5, 7, 9, 12]) ➞ 1"
   ]
  },
  {
   "cell_type": "code",
   "execution_count": 27,
   "id": "9aae1d7b",
   "metadata": {},
   "outputs": [
    {
     "name": "stdout",
     "output_type": "stream",
     "text": [
      "minimum_removals [1, 3, 4, 5] ----> 2\n"
     ]
    }
   ],
   "source": [
    "x = [1,2,3,4,5]\n",
    "if len(x)%2 != 0:\n",
    "    y = x.pop(min(x))\n",
    "else:\n",
    "    y = 0\n",
    "print(f'minimum_removals {x} ----> {y}')"
   ]
  },
  {
   "cell_type": "markdown",
   "id": "2c77f9ac",
   "metadata": {},
   "source": [
    "## Question 38:\n",
    "Create a function that takes a number as an argument and returns a list of numbers counting down from this number to zero.\n",
    "\n",
    "Examples:\n",
    "\n",
    "countdown(5) ➞ [5, 4, 3, 2, 1, 0]\n",
    "\n",
    "countdown(1) ➞ [1, 0]\n",
    "\n",
    "countdown(0) ➞ [0]"
   ]
  },
  {
   "cell_type": "code",
   "execution_count": 28,
   "id": "235b6b10",
   "metadata": {},
   "outputs": [
    {
     "name": "stdout",
     "output_type": "stream",
     "text": [
      "countdown5 ------> [5, 4, 3, 2, 1, 0]\n"
     ]
    }
   ],
   "source": [
    "x = list(range(5,-1,-1))\n",
    "print(f'countdown{x[0]} ------> {x}')"
   ]
  },
  {
   "cell_type": "markdown",
   "id": "6502e311",
   "metadata": {},
   "source": [
    "## Question 39:\n",
    "Create a function that takes a string road and returns the car that's in first place. The road will be made of \"=\", and cars will be represented by letters in the alphabet.\n",
    "\n",
    "Examples:\n",
    "\n",
    "first_place(\"====b===O===e===U=A==\") ➞ \"A\"\n",
    "\n",
    "first_place(\"e==B=Fe\") ➞ \"e\"\n",
    "\n",
    "first_place(\"proeNeoOJGnfl\") ➞ \"l\""
   ]
  },
  {
   "cell_type": "code",
   "execution_count": 33,
   "id": "4a4a8749",
   "metadata": {},
   "outputs": [
    {
     "name": "stdout",
     "output_type": "stream",
     "text": [
      "fistplace(\"====b===O===e===U=A==\") ------> A\n"
     ]
    }
   ],
   "source": [
    "x = \"====b===O===e===U=A==\"\n",
    "for i in x:\n",
    "    if (ord(i)>=65 and ord(i) <=90) or (ord(i)>=97 and ord(i) <=122):\n",
    "        first_place = i\n",
    "print(f'fistplace(\"{x}\") ------> {first_place}')"
   ]
  },
  {
   "cell_type": "markdown",
   "id": "71a455df",
   "metadata": {},
   "source": [
    "## Question 40:\n",
    "Write a function that turns a comma-delimited list into an array of strings.\n",
    "\n",
    "Examples:\n",
    "\n",
    "to_array(\"watermelon, raspberry, orange\")\n",
    "➞ [\"watermelon\", \"raspberry\", \"orange\"]\n",
    "\n",
    "to_array(\"x1, x2, x3, x4, x5\")\n",
    "➞ [\"x1\", \"x2\", \"x3\", \"x4\", \"x5\"]\n",
    "\n",
    "to_array(\"a, b, c, d\")\n",
    "➞ [\"a\", \"b\", \"c\", \"d\"]\n",
    "\n",
    "to_array(\"\")\n",
    "➞ []"
   ]
  },
  {
   "cell_type": "code",
   "execution_count": 38,
   "id": "d23851ff",
   "metadata": {},
   "outputs": [
    {
     "name": "stdout",
     "output_type": "stream",
     "text": [
      "to_array(\"watermelon, raspberry, orange\") -----> ['watermelon', ' raspberry', ' orange']\n"
     ]
    }
   ],
   "source": [
    "x = \"watermelon, raspberry, orange\"\n",
    "y = x.split(\",\")\n",
    "print(f'to_array(\"{x}\") -----> {y}')"
   ]
  },
  {
   "cell_type": "markdown",
   "id": "97925738",
   "metadata": {},
   "source": [
    "## 10 - Easy Questions:\n"
   ]
  },
  {
   "cell_type": "markdown",
   "id": "4d9d9aa6",
   "metadata": {},
   "source": [
    "## Question 41:\n",
    "When resistors are connected together in series, the same current passes through each resistor in the chain and the total resistance, RT, of the circuit must be equal to the sum of all the individual resistors added together. That is:\n",
    "\n",
    "RT = R1 + R2 + R3 ...\n",
    "\n",
    "Create a function that takes an array of values resistance that are connected in series, and calculates the total resistance of \n",
    "\n",
    "the circuit in ohms. The ohm is the standard unit of electrical resistance in the International System of Units ( SI ).\n",
    "\n",
    "Examples:\n",
    "\n",
    "series_resistance([1, 5, 6, 3]) ➞ \"15 ohms\"\n",
    "\n",
    "series_resistance([16, 3.5, 6]) ➞ \"25.5 ohms\"\n",
    "\n",
    "series_resistance([0.5, 0.5]) ➞ \"1.0 ohm\""
   ]
  },
  {
   "cell_type": "code",
   "execution_count": 39,
   "id": "62b1edc8",
   "metadata": {},
   "outputs": [
    {
     "name": "stdout",
     "output_type": "stream",
     "text": [
      "series_resistance([1, 5, 6, 3]) -----> \"15 ohms\"\n"
     ]
    }
   ],
   "source": [
    "x = [1, 5, 6, 3]\n",
    "resistance = 0\n",
    "for i in x:\n",
    "    resistance += i\n",
    "print(f'series_resistance({x}) -----> \"{resistance} ohms\"')"
   ]
  },
  {
   "cell_type": "markdown",
   "id": "2d809d88",
   "metadata": {},
   "source": [
    "## Question 42:\n",
    "Create a function which concatenates the number 7 to the end of every chord in a list. Ignore all chords which already end with 7.\n",
    "\n",
    "Examples:\n",
    "\n",
    "jazzify([\"G\", \"F\", \"C\"]) ➞ [\"G7\", \"F7\", \"C7\"]\n",
    "\n",
    "jazzify([\"Dm\", \"G\", \"E\", \"A\"]) ➞ [\"Dm7\", \"G7\", \"E7\", \"A7\"]\n",
    "\n",
    "jazzify([\"F7\", \"E7\", \"A7\", \"Ab7\", \"Gm7\", \"C7\"]) ➞ [\"F7\", \"E7\", \"A7\", \"Ab7\", \"Gm7\", \"C7\"]\n",
    "\n",
    "jazzify([]) ➞ []"
   ]
  },
  {
   "cell_type": "code",
   "execution_count": 44,
   "id": "a6058503",
   "metadata": {},
   "outputs": [
    {
     "name": "stdout",
     "output_type": "stream",
     "text": [
      "jazzify(['G', 'F', 'C']) ---> ['G7', 'F7', 'C7']\n"
     ]
    }
   ],
   "source": [
    "x = [\"G\", \"F\", \"C\"]\n",
    "z = []\n",
    "for i in x:\n",
    "    z.append(i+\"7\")\n",
    "print(f'jazzify({x}) ---> {z}')"
   ]
  },
  {
   "cell_type": "markdown",
   "id": "d01f25a5",
   "metadata": {},
   "source": [
    "## Question 43:\n",
    "Create a function that returns a base-2 (binary) representation of a base-10 (decimal) string number. To convert is simple: ((2) means base-2 and (10) means base-10) 010101001(2) = 1 + 8 + 32 + 128.\n",
    "\n",
    "Going from right to left, the value of the most right bit is 1, now from that every bit to the left will be x2 the value, value of an 8 bit binary numbers are (256, 128, 64, 32, 16, 8, 4, 2, 1).\n",
    "\n",
    "Examples:\n",
    "\n",
    "binary(1) ➞ \"1\"\n",
    "\n",
    "1*1 = 1\n",
    "\n",
    "binary(5) ➞ \"101\"\n",
    "\n",
    "1*1 + 1*4 = 5\n",
    "\n",
    "binary(10) ➞ \"1010\"\n",
    "\n",
    "1*2 + 1*8 = 10"
   ]
  },
  {
   "cell_type": "code",
   "execution_count": 10,
   "id": "31f35bf5",
   "metadata": {},
   "outputs": [
    {
     "name": "stdout",
     "output_type": "stream",
     "text": [
      "enter a number:10\n",
      "binary(10) ---> \"1010\"\n"
     ]
    }
   ],
   "source": [
    "x = int(input(\"enter a number:\"))\n",
    "y = bin(x)\n",
    "y = y[2:]\n",
    "print(f'binary({x}) ---> \"{y}\"')"
   ]
  },
  {
   "cell_type": "markdown",
   "id": "e88aba70",
   "metadata": {},
   "source": [
    "## Question 44:\n",
    "Create a function that takes a string and returns the number (count) of vowels contained within it.\n",
    "\n",
    "Examples:\n",
    "\n",
    "count_vowels(\"Celebration\") ➞ 5\n",
    "\n",
    "count_vowels(\"Palm\") ➞ 1\n",
    "\n",
    "count_vowels(\"Prediction\") ➞ 4"
   ]
  },
  {
   "cell_type": "code",
   "execution_count": 11,
   "id": "882c264f",
   "metadata": {},
   "outputs": [
    {
     "name": "stdout",
     "output_type": "stream",
     "text": [
      "count_vowels(\"celebration\")  ------> 5\n"
     ]
    }
   ],
   "source": [
    "x = \"Celebration\"\n",
    "x = x.lower()\n",
    "count = 0\n",
    "for i in x:\n",
    "    if i == 'a' or i == 'e' or i == 'o' or i == 'i' or i == 'u':\n",
    "        count += 1\n",
    "print(f'count_vowels(\"{x}\")  ------> {count}')"
   ]
  },
  {
   "cell_type": "markdown",
   "id": "eb5cf39b",
   "metadata": {},
   "source": [
    "## Question 45:\n",
    "Create a function that takes a list and finds the integer which appears an odd number of times.\n",
    "\n",
    "Examples:\n",
    "\n",
    "find_odd([1, 1, 2, -2, 5, 2, 4, 4, -1, -2, 5]) ➞ -1\n",
    "\n",
    "find_odd([20, 1, 1, 2, 2, 3, 3, 5, 5, 4, 20, 4, 5]) ➞ 5\n",
    "\n",
    "find_odd([10]) ➞ 10"
   ]
  },
  {
   "cell_type": "code",
   "execution_count": 21,
   "id": "250151b9",
   "metadata": {},
   "outputs": [
    {
     "name": "stdout",
     "output_type": "stream",
     "text": [
      "find_odd([1, 1, 2, -2, 5, 2, 4, 4, -1, -2, 5]) ----> -1\n"
     ]
    }
   ],
   "source": [
    "x = [1, 1, 2, -2, 5, 2, 4, 4, -1, -2, 5]\n",
    "y = set(x)\n",
    "a = list(y)\n",
    "z = []\n",
    "for i in y:\n",
    "    z.append(x.count(i))\n",
    "for i in range(0,len(z)):\n",
    "    if a[i]%2 != 0:\n",
    "        odd_pos = a[i]\n",
    "print(f'find_odd({x}) ----> {odd_pos}')"
   ]
  },
  {
   "cell_type": "markdown",
   "id": "1949494c",
   "metadata": {},
   "source": [
    "## Question 46:\n",
    "Hamming distance is the number of characters that differ between two strings.\n",
    "\n",
    "To illustrate:\n",
    "\n",
    "String1: \"abcbba\"\n",
    "\n",
    "String2: \"abcbda\"\n",
    "\n",
    "Hamming Distance: 1 - \"b\" vs. \"d\" is the only difference.\n",
    "\n",
    "Create a function that computes the hamming distance between two strings.\n",
    "\n",
    "Examples:\n",
    "\n",
    "hamming_distance(\"abcde\", \"bcdef\") ➞ 5\n",
    "\n",
    "hamming_distance(\"abcde\", \"abcde\") ➞ 0\n",
    "\n",
    "hamming_distance(\"strong\", \"strung\") ➞ 1"
   ]
  },
  {
   "cell_type": "code",
   "execution_count": 22,
   "id": "44baee31",
   "metadata": {},
   "outputs": [
    {
     "name": "stdout",
     "output_type": "stream",
     "text": [
      "hamming_distance(\"abcde\", \"bcdef\") ------> 5\n"
     ]
    }
   ],
   "source": [
    "x, y = \"abcde\", \"bcdef\"\n",
    "count = 0\n",
    "for i in range(0,len(x)):\n",
    "    if x[i] != y[i]:\n",
    "        count += 1\n",
    "print(f'hamming_distance(\"{x}\", \"{y}\") ------> {count}')"
   ]
  },
  {
   "cell_type": "markdown",
   "id": "a2e2cd4b",
   "metadata": {},
   "source": [
    "## Question 47:\n",
    "Create a function that takes a list of non-negative integers and strings and return a new list without the strings.\n",
    "\n",
    "Examples:\n",
    "\n",
    "filter_list([1, 2, \"a\", \"b\"]) ➞ [1, 2]\n",
    "\n",
    "filter_list([1, \"a\", \"b\", 0, 15]) ➞ [1, 0, 15]\n",
    "\n",
    "filter_list([1, 2, \"aasf\", \"1\", \"123\", 123]) ➞ [1, 2, 123]"
   ]
  },
  {
   "cell_type": "code",
   "execution_count": 10,
   "id": "6df7ae14",
   "metadata": {},
   "outputs": [
    {
     "name": "stdout",
     "output_type": "stream",
     "text": [
      "Filter_list([1, 2, 'a', 'b']) ---> [1, 2]\n"
     ]
    }
   ],
   "source": [
    "x = [1, 2, \"a\", \"b\"]\n",
    "y = [i for i in x if type(i) != str]\n",
    "print(f'Filter_list({x}) ---> {y}')"
   ]
  },
  {
   "cell_type": "markdown",
   "id": "625bbf24",
   "metadata": {},
   "source": [
    "## Question 48:\n",
    "Create a function that takes a list of strings and integers, and filters out the list so that it returns a list of integers only.\n",
    "\n",
    "Examples:\n",
    "\n",
    "filter_list([1, 2, 3, \"a\", \"b\", 4]) ➞ [1, 2, 3, 4]\n",
    "\n",
    "filter_list([\"A\", 0, \"Edabit\", 1729, \"Python\", \"1729\"]) ➞ [0, 1729]\n",
    "\n",
    "filter_list([\"Nothing\", \"here\"]) ➞ []"
   ]
  },
  {
   "cell_type": "code",
   "execution_count": 9,
   "id": "4f2a0afe",
   "metadata": {},
   "outputs": [
    {
     "name": "stdout",
     "output_type": "stream",
     "text": [
      "Filter_list(['A', 0, 'Edabit', 1729, 'Python', '1729']) ---> [0, 1729]\n"
     ]
    }
   ],
   "source": [
    "x = [\"A\", 0, \"Edabit\", 1729, \"Python\", \"1729\"]\n",
    "y = [ele for ele in x if type(ele) == int]\n",
    "print(f'Filter_list({x}) ---> {y}')"
   ]
  },
  {
   "cell_type": "markdown",
   "id": "68543701",
   "metadata": {},
   "source": [
    "## Question 49:\n",
    "Given a list of numbers, create a function which returns the list but with each element's index in the list added to itself. This means you add 0 to the number at index 0, add 1 to the number at index 1, etc...\n",
    "\n",
    "Examples:\n",
    "\n",
    "add_indexes([0, 0, 0, 0, 0]) ➞ [0, 1, 2, 3, 4]\n",
    "\n",
    "add_indexes([1, 2, 3, 4, 5]) ➞ [1, 3, 5, 7, 9]\n",
    "\n",
    "add_indexes([5, 4, 3, 2, 1]) ➞ [5, 5, 5, 5, 5]"
   ]
  },
  {
   "cell_type": "code",
   "execution_count": 12,
   "id": "efd98c6b",
   "metadata": {},
   "outputs": [
    {
     "name": "stdout",
     "output_type": "stream",
     "text": [
      "add_indexes([1, 2, 3, 4, 5]) -----> [1, 3, 5, 7, 9]\n"
     ]
    }
   ],
   "source": [
    "x = [1, 2, 3, 4, 5]\n",
    "y = [i+x.index(i) for i in x]\n",
    "print(f'add_indexes({x}) -----> {y}')"
   ]
  },
  {
   "cell_type": "markdown",
   "id": "3d6720cb",
   "metadata": {},
   "source": [
    "## Question 50:\n",
    "This Triangular Number Sequence is generated from a pattern of dots that form a triangle. The first 5 numbers of the sequence, or dots, are:\n",
    "\n",
    "1, 3, 6, 10, 15\n",
    "\n",
    "This means that the first triangle has just one dot, the second one has three dots, the third one has 6 dots and so on.\n",
    "\n",
    "Write a function that returns the number of dots when given its corresponding triangle number of the sequence.\n",
    "\n",
    "Examples:\n",
    "\n",
    "triangle(1) ➞ 1\n",
    "\n",
    "triangle(6) ➞ 21\n",
    "\n",
    "triangle(215) ➞ 23220"
   ]
  },
  {
   "cell_type": "code",
   "execution_count": 15,
   "id": "e0568d52",
   "metadata": {},
   "outputs": [
    {
     "name": "stdout",
     "output_type": "stream",
     "text": [
      "enter a number:215\n",
      "tringle(215) ----> 23220\n"
     ]
    }
   ],
   "source": [
    "x = int(input('enter a number:'))\n",
    "y = [i for i in range(1,x+1)]\n",
    "number_of_dots = 0\n",
    "for i in y:\n",
    "    number_of_dots+=i\n",
    "print(f'tringle({x}) ----> {number_of_dots}')"
   ]
  },
  {
   "cell_type": "code",
   "execution_count": null,
   "id": "524084b8",
   "metadata": {},
   "outputs": [],
   "source": []
  },
  {
   "cell_type": "code",
   "execution_count": null,
   "id": "abf5c5cf",
   "metadata": {},
   "outputs": [],
   "source": []
  }
 ],
 "metadata": {
  "kernelspec": {
   "display_name": "Python 3 (ipykernel)",
   "language": "python",
   "name": "python3"
  },
  "language_info": {
   "codemirror_mode": {
    "name": "ipython",
    "version": 3
   },
   "file_extension": ".py",
   "mimetype": "text/x-python",
   "name": "python",
   "nbconvert_exporter": "python",
   "pygments_lexer": "ipython3",
   "version": "3.11.3"
  }
 },
 "nbformat": 4,
 "nbformat_minor": 5
}
