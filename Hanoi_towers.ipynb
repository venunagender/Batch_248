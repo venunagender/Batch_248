{
 "cells": [
  {
   "cell_type": "markdown",
   "id": "1be58121",
   "metadata": {},
   "source": [
    "\n",
    "# Hanoi Tower\n",
    "Tower of Hanoi is a mathematical puzzle where we have three rods (A, B, and C) and N disks. Initially, all the disks are stacked in decreasing value of diameter i.e., the smallest disk is placed on the top and they are on rod A. The objective of the puzzle is to move the entire stack to another rod (here considered C), obeying the following simple rules:\n",
    "\n",
    "Only one disk can be moved at a time.\n",
    "* Each move consists of taking the upper disk from one of the stacks and placing it on top of another stack i.e. a disk can only be moved if it is the uppermost disk on a stack.\n",
    "* No disk may be placed on top of a smaller disk."
   ]
  },
  {
   "cell_type": "markdown",
   "id": "dbffadc9",
   "metadata": {},
   "source": [
    "![](https://1.bp.blogspot.com/-4R0ZfbGOspM/XVaYRFnk16I/AAAAAAAAIP8/xFG876BVNi4VZiOy8DCH0dZoBw2ecZhSgCLcBGAs/w1200-h630-p-k-no-nu/towerofhanoi.png)"
   ]
  },
  {
   "cell_type": "code",
   "execution_count": 2,
   "id": "3c8bfa74",
   "metadata": {},
   "outputs": [
    {
     "name": "stdout",
     "output_type": "stream",
     "text": [
      "Move disk 1 from A to B\n",
      "Move disk 2 from A to C\n",
      "Move disk 1 from B to C\n"
     ]
    }
   ],
   "source": [
    "def tower_of_hanoi(n, source, auxiliary, target):\n",
    "    # Base case: If there's only one disk, move it from the source to the target.\n",
    "    if n == 1:\n",
    "        print(f\"Move disk 1 from {source} to {target}\")\n",
    "        return\n",
    "    \n",
    "    # Step 1: Move (n-1) disks from the source peg to the auxiliary peg using the target peg as temporary storage.\n",
    "    tower_of_hanoi(n-1, source, target, auxiliary)\n",
    "    \n",
    "    # Step 2: Move the largest disk from the source peg to the target peg.\n",
    "    print(f\"Move disk {n} from {source} to {target}\")\n",
    "    \n",
    "    # Step 3: Move the (n-1) disks from the auxiliary peg to the target peg using the source peg as temporary storage.\n",
    "    tower_of_hanoi(n-1, auxiliary, source, target)\n",
    "\n",
    "# Example usage:\n",
    "n = 2  # Number of disks\n",
    "tower_of_hanoi(n, 'A', 'B', 'C')\n"
   ]
  },
  {
   "cell_type": "code",
   "execution_count": null,
   "id": "1b0e2832",
   "metadata": {},
   "outputs": [],
   "source": []
  }
 ],
 "metadata": {
  "kernelspec": {
   "display_name": "Python 3 (ipykernel)",
   "language": "python",
   "name": "python3"
  },
  "language_info": {
   "codemirror_mode": {
    "name": "ipython",
    "version": 3
   },
   "file_extension": ".py",
   "mimetype": "text/x-python",
   "name": "python",
   "nbconvert_exporter": "python",
   "pygments_lexer": "ipython3",
   "version": "3.11.3"
  }
 },
 "nbformat": 4,
 "nbformat_minor": 5
}
